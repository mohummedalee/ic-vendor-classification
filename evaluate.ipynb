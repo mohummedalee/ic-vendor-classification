{
 "cells": [
  {
   "cell_type": "markdown",
   "id": "5e9ca701-54de-4ee8-b560-2a3c629c5d73",
   "metadata": {},
   "source": [
    "Models that are evaluated here:\n",
    "- `models/post-vgg-aug-model.keras`\n",
    "- `models/post-vgg-model.keras`\n",
    "- `models/vgg-ft-model.keras`"
   ]
  },
  {
   "cell_type": "code",
   "execution_count": 103,
   "id": "61a76260-0bfd-4f87-8000-10c7df62d589",
   "metadata": {},
   "outputs": [],
   "source": [
    "import keras\n",
    "import numpy as np\n",
    "from tabulate import tabulate\n",
    "from torchvision.ops import Permute\n",
    "from torch.utils.data import DataLoader\n",
    "\n",
    "from data import ICImagesDataset\n",
    "from config import CFG"
   ]
  },
  {
   "cell_type": "markdown",
   "id": "f9fe5ce2-de80-4135-9f09-311ce436da79",
   "metadata": {},
   "source": [
    "### Load model(s)"
   ]
  },
  {
   "cell_type": "code",
   "execution_count": 100,
   "id": "5099cb7b-c6ec-4d02-8b03-38f9494caef3",
   "metadata": {},
   "outputs": [],
   "source": [
    "post_vgg = keras.models.load_model(\"models/post-vgg-model.keras\")\n",
    "\n",
    "post_vgg_aug = keras.models.load_model(\"models/post-vgg-aug-model.keras\")\n",
    "post_vgg_aug_2 = keras.models.load_model(\"models/experiments/post-vgg-aug-low-lr-xavier-init-model.keras\")\n",
    "post_vgg_aug_3 = keras.models.load_model(\"models/experiments/post-vgg-aug-rescaled-1em4.keras\")\n",
    "\n",
    "vgg_ft_aug = keras.models.load_model(\"models/vgg-ft-model.keras\")\n",
    "vgg_ft_aug_2 = keras.models.load_model(\"models/experiments/vgg_ft-6_layers-100_epochs-nodecay-1e-05_lr.keras\")"
   ]
  },
  {
   "cell_type": "markdown",
   "id": "51068d49-5436-4de4-9779-64e94b2cede5",
   "metadata": {
    "jp-MarkdownHeadingCollapsed": true
   },
   "source": [
    "### Load test data and set up metric utilities"
   ]
  },
  {
   "cell_type": "code",
   "execution_count": 49,
   "id": "93b2920d-9fa2-4d03-bc0c-00c1fb47fb86",
   "metadata": {},
   "outputs": [],
   "source": [
    "move_channels_inward_fn = Permute([1, 2, 0])\n",
    "\n",
    "# load test dataset\n",
    "test_dataset = ICImagesDataset(\n",
    "    annotations=CFG.annotations_fname.format(\"test\"),\n",
    "    directory=CFG.images_dirname.format(\"test\"),\n",
    "    transform=move_channels_inward_fn\n",
    ")\n",
    "test_dataloader = DataLoader(test_dataset, batch_size=CFG.val_batch_size, shuffle=True)"
   ]
  },
  {
   "cell_type": "code",
   "execution_count": 88,
   "id": "56fc1118-e43a-462a-a537-929f615db08a",
   "metadata": {},
   "outputs": [],
   "source": [
    "def top_k_accuracy(model, dataloader, k=3):\n",
    "    met = keras.metrics.TopKCategoricalAccuracy(k=k)\n",
    "    if isinstance(dataloader, DataLoader):\n",
    "        for images, gt in dataloader:\n",
    "            preds = model.predict(images, verbose=0)\n",
    "            met.update_state(gt, preds)\n",
    "    elif isinstance(dataloader, tuple):\n",
    "        # when input has been vectorized in one go, pass as tuple of (np.ndarray, np.ndarray)\n",
    "        features, labels = dataloader[0], dataloader[1]\n",
    "        for vec, gt in zip(features, labels):\n",
    "            preds = model.predict(np.expand_dims(vec, axis=0), verbose=0)            \n",
    "            met.update_state(np.expand_dims(gt, axis=0), preds)\n",
    "    return met.result().numpy()\n",
    "\n",
    "def accuracy(model, dataloader):\n",
    "    met = keras.metrics.CategoricalAccuracy()\n",
    "    if isinstance(dataloader, DataLoader):\n",
    "        for images, gt in dataloader:\n",
    "            preds = model.predict(images, verbose=0)\n",
    "            met.update_state(gt, preds)\n",
    "    elif isinstance(dataloader, tuple):\n",
    "        # when input has been vectorized in one go, pass as tuple of (np.ndarray, np.ndarray)\n",
    "        features, labels = dataloader[0], dataloader[1]\n",
    "        for vec, gt in zip(features, labels):\n",
    "            preds = model.predict(np.expand_dims(vec, axis=0), verbose=0)            \n",
    "            met.update_state(np.expand_dims(gt, axis=0), preds)\n",
    "    return met.result().numpy()\n",
    "\n",
    "def f1_score(model, dataloader, avg=None):\n",
    "    met = keras.metrics.F1Score(average=avg)\n",
    "    if isinstance(dataloader, DataLoader):\n",
    "        for images, gt in dataloader:\n",
    "            preds = model.predict(images, verbose=0)\n",
    "            met.update_state(gt, preds)\n",
    "    elif isinstance(dataloader, tuple):\n",
    "        # when input has been vectorized in one go, pass as tuple of (np.ndarray, np.ndarray)\n",
    "        features, labels = dataloader[0], dataloader[1]\n",
    "        for vec, gt in zip(features, labels):\n",
    "            preds = model.predict(np.expand_dims(vec, axis=0), verbose=0)            \n",
    "            met.update_state(np.expand_dims(gt, axis=0), preds)\n",
    "    return met.result().numpy()"
   ]
  },
  {
   "cell_type": "markdown",
   "id": "fc58d255-fad6-426f-920b-9430f96b2d68",
   "metadata": {},
   "source": [
    "## Evaluate each approach (Post-VGG, Post-VGG-Aug, VGG-FT-Aug)"
   ]
  },
  {
   "cell_type": "markdown",
   "id": "a8a854bd-3db7-4763-9db9-0268b9405365",
   "metadata": {},
   "source": [
    "#### Post-VGG"
   ]
  },
  {
   "cell_type": "code",
   "execution_count": 90,
   "id": "7ea8fefc-97c8-4764-959d-2ebb8ee2910c",
   "metadata": {},
   "outputs": [],
   "source": [
    "# will have to vectorize test data with VGG base to use post-VGG model\n",
    "vgg_base = keras.applications.vgg16.VGG16(\n",
    "    weights=\"imagenet\",\n",
    "    include_top=False,\n",
    "    input_shape=(CFG.input_shape, CFG.input_shape, 3)\n",
    ")\n",
    "\n",
    "def vgg_extract_features(dataloader):\n",
    "    all_features = []; all_labels = []\n",
    "    for images, labels in dataloader:\n",
    "        preprocessed = keras.applications.vgg16.preprocess_input(images)\n",
    "        features = vgg_base.predict(preprocessed, verbose=0)        \n",
    "        all_features.append(features)\n",
    "        all_labels.append(labels)\n",
    "\n",
    "    return np.concatenate(all_features), np.concatenate(all_labels)\n",
    "\n",
    "vgg_extracted_test_features, vgg_test_labels = vgg_extract_features(test_dataloader)"
   ]
  },
  {
   "cell_type": "code",
   "execution_count": 93,
   "id": "ff6a5863-3592-4f62-93b1-8a6d8cbac980",
   "metadata": {},
   "outputs": [
    {
     "name": "stdout",
     "output_type": "stream",
     "text": [
      "MODEL: Post-VGG\n",
      "Test accuracy: 0.48\n",
      "Top-3 test accuracy: 0.70431376\n",
      "F1 score (macro averaged): 0.3885477\n"
     ]
    }
   ],
   "source": [
    "print('MODEL: Post-VGG')\n",
    "\n",
    "print(\"Test accuracy:\", accuracy(post_vgg, (vgg_extracted_test_features, vgg_test_labels)))\n",
    "print(\"Top-3 test accuracy:\", top_k_accuracy(post_vgg, (vgg_extracted_test_features, vgg_test_labels)))\n",
    "print(\"F1 score (macro averaged):\", f1_score(post_vgg, (vgg_extracted_test_features, vgg_test_labels), avg=\"macro\"))"
   ]
  },
  {
   "cell_type": "markdown",
   "id": "d407f908-30de-49d3-9faf-a7e352acfd2d",
   "metadata": {},
   "source": [
    "#### Post-VGG-Aug\n",
    "Reporting multiple experiments below with hyperparameter modifications (`post_vgg_aug`, `post_vgg_aug_2`, `post_vgg_aug_3`). Final table is built with best performing approach."
   ]
  },
  {
   "cell_type": "code",
   "execution_count": 94,
   "id": "a461cd6d-a51c-46b2-8b14-24575ccbdde6",
   "metadata": {},
   "outputs": [
    {
     "name": "stdout",
     "output_type": "stream",
     "text": [
      "MODEL: Post-VGG-Aug\n",
      "Test accuracy: 0.5058824\n",
      "Top-3 test accuracy: 0.7207843\n",
      "F1 score (macro averaged): 0.40812707\n"
     ]
    }
   ],
   "source": [
    "print('MODEL: Post-VGG-Aug')\n",
    "\n",
    "print(\"Test accuracy:\", accuracy(post_vgg_aug, test_dataloader))\n",
    "print(\"Top-3 test accuracy:\", top_k_accuracy(post_vgg_aug, test_dataloader))\n",
    "print(\"F1 score (macro averaged):\", f1_score(post_vgg_aug, test_dataloader, avg=\"macro\"))"
   ]
  },
  {
   "cell_type": "code",
   "execution_count": 96,
   "id": "54fe7c0e-4ad5-419e-9ecd-f5180ffbb31c",
   "metadata": {},
   "outputs": [
    {
     "name": "stdout",
     "output_type": "stream",
     "text": [
      "MODEL: Post-VGG-Aug v2 (lower learning rate of 1e-4 + Xavier weights initialization)\n",
      "Test accuracy: 0.49411765\n",
      "Top-3 test accuracy: 0.7262745\n",
      "F1 score (macro averaged): 0.44843793\n"
     ]
    }
   ],
   "source": [
    "print('MODEL: Post-VGG-Aug v2 (lower learning rate of 1e-4 + Xavier weights initialization)')\n",
    "\n",
    "print(\"Test accuracy:\", accuracy(post_vgg_aug_2, test_dataloader))\n",
    "print(\"Top-3 test accuracy:\", top_k_accuracy(post_vgg_aug_2, test_dataloader))\n",
    "print(\"F1 score (macro averaged):\", f1_score(post_vgg_aug_3, test_dataloader, avg=\"macro\"))"
   ]
  },
  {
   "cell_type": "code",
   "execution_count": 97,
   "id": "7eb9daa0-e682-4692-aed0-8815da1817fe",
   "metadata": {},
   "outputs": [
    {
     "name": "stdout",
     "output_type": "stream",
     "text": [
      "MODEL: Post-VGG-Aug v3 (input rescaling + lower learning rate of 1e-4 + Xavier weights initialization)\n",
      "Test accuracy: 0.5427451\n",
      "Top-3 test accuracy: 0.7513726\n",
      "F1 score (macro averaged): 0.44843793\n"
     ]
    }
   ],
   "source": [
    "print('MODEL: Post-VGG-Aug v3 (input rescaling + lower learning rate of 1e-4 + Xavier weights initialization)')\n",
    "\n",
    "print(\"Test accuracy:\", accuracy(post_vgg_aug_3, test_dataloader))\n",
    "print(\"Top-3 test accuracy:\", top_k_accuracy(post_vgg_aug_3, test_dataloader))\n",
    "print(\"F1 score (macro averaged):\", f1_score(post_vgg_aug_3, test_dataloader, avg=\"macro\"))"
   ]
  },
  {
   "cell_type": "markdown",
   "id": "8a6088ac-d7f3-47d5-9899-df60f2306bb0",
   "metadata": {},
   "source": [
    "#### VGG-FT-Aug\n",
    "Reporting 2 best experiments below with several hyperparameter modifications. Training logs for all experiments can be seen at https://wandb.ai/muhammadali/ic-chip-net."
   ]
  },
  {
   "cell_type": "code",
   "execution_count": 99,
   "id": "64aec49b-cc9d-4484-961c-271054e3a39e",
   "metadata": {},
   "outputs": [
    {
     "name": "stdout",
     "output_type": "stream",
     "text": [
      "MODEL: VGG-FT-Aug\n",
      "Test accuracy: 0.74666667\n",
      "Top-3 test accuracy: 0.89098036\n",
      "F1 score (macro averaged): 0.668292\n"
     ]
    }
   ],
   "source": [
    "print('MODEL: VGG-FT-Aug')\n",
    "\n",
    "print(\"Test accuracy:\", accuracy(vgg_ft_aug, test_dataloader))\n",
    "print(\"Top-3 test accuracy:\", top_k_accuracy(vgg_ft_aug, test_dataloader))\n",
    "print(\"F1 score (macro averaged):\", f1_score(vgg_ft_aug, test_dataloader, avg=\"macro\"))"
   ]
  },
  {
   "cell_type": "code",
   "execution_count": 101,
   "id": "811d8b5f-aca0-4f71-af64-13cc7998e3b4",
   "metadata": {},
   "outputs": [
    {
     "name": "stdout",
     "output_type": "stream",
     "text": [
      "MODEL: VGG-FT-Aug v2\n",
      "Test accuracy: 0.7584314\n",
      "Top-3 test accuracy: 0.88941175\n",
      "F1 score (macro averaged): 0.6835555\n"
     ]
    }
   ],
   "source": [
    "print('MODEL: VGG-FT-Aug v2')\n",
    "\n",
    "print(\"Test accuracy:\", accuracy(vgg_ft_aug_2, test_dataloader))\n",
    "print(\"Top-3 test accuracy:\", top_k_accuracy(vgg_ft_aug_2, test_dataloader))\n",
    "print(\"F1 score (macro averaged):\", f1_score(vgg_ft_aug_2, test_dataloader, avg=\"macro\"))"
   ]
  },
  {
   "cell_type": "markdown",
   "id": "1a8128cc-b35c-4a01-a56e-2c53e9f266aa",
   "metadata": {},
   "source": [
    "### Build final comparison table"
   ]
  },
  {
   "cell_type": "code",
   "execution_count": 121,
   "id": "f60a82bf-2c64-442a-8a88-be6cf8730876",
   "metadata": {},
   "outputs": [],
   "source": [
    "# build table\n",
    "table = [\n",
    "    # columns\n",
    "    [\"Model\", \"Accuracy\", \"Top-3 Accuracy\", \"Macro F1\"],\n",
    "    [\n",
    "        \"Post-VGG\",\n",
    "        accuracy(post_vgg, (vgg_extracted_test_features, vgg_test_labels)),\n",
    "        top_k_accuracy(post_vgg, (vgg_extracted_test_features, vgg_test_labels)),\n",
    "        f1_score(post_vgg, (vgg_extracted_test_features, vgg_test_labels), avg=\"macro\")\n",
    "    ],\n",
    "    [\n",
    "        \"Post-VGG-Aug\",\n",
    "        accuracy(post_vgg_aug_3, test_dataloader),\n",
    "        top_k_accuracy(post_vgg_aug_3, test_dataloader),\n",
    "        f1_score(post_vgg_aug_3, test_dataloader, avg=\"macro\")\n",
    "    ],\n",
    "    [\n",
    "        \"VGG-FT-Aug\",\n",
    "        accuracy(vgg_ft_aug_2, test_dataloader),\n",
    "        top_k_accuracy(vgg_ft_aug_2, test_dataloader),\n",
    "        f1_score(vgg_ft_aug_2, test_dataloader, avg=\"macro\")\n",
    "    ]\n",
    "]"
   ]
  },
  {
   "cell_type": "code",
   "execution_count": 123,
   "id": "6e2cc268-bddb-4f6f-85ac-76683e8f5545",
   "metadata": {},
   "outputs": [
    {
     "name": "stdout",
     "output_type": "stream",
     "text": [
      "------------  -------------------  ------------------  ------------------\n",
      "Model         Accuracy             Top-3 Accuracy      Macro F1\n",
      "Post-VGG      0.47999998927116394  0.7043137550354004  0.3885476887226105\n",
      "Post-VGG-Aug  0.5427451133728027   0.7513725757598877  0.4484379291534424\n",
      "VGG-FT-Aug    0.7584313750267029   0.8894117474555969  0.6835554838180542\n",
      "------------  -------------------  ------------------  ------------------\n"
     ]
    }
   ],
   "source": [
    "print(tabulate(table))"
   ]
  },
  {
   "cell_type": "markdown",
   "id": "d92dfc57-4ee0-4ef2-a278-9b69ccf80d6a",
   "metadata": {},
   "source": [
    "## 🎆 Final Performance Table 🎆 "
   ]
  },
  {
   "cell_type": "markdown",
   "id": "cf8ce786-0050-4364-ab3a-a13ad63ba21f",
   "metadata": {},
   "source": [
    "| Model    | Accuracy | Top-3 Accuracy | Macro F1\n",
    "| -------- | -------   | ------ | -----|\n",
    "Post-VGG  | 47.999 | 70.431 | 38.854|\n",
    "Post-VGG-Aug |  54.274 |  75.137 | 44.843 |\n",
    "**VGG-FT-Aug**  |  **75.843** |  **88.941**  | **68.355** |"
   ]
  },
  {
   "cell_type": "code",
   "execution_count": null,
   "id": "65925cfd-d3d1-4a0b-904a-d1da13d86f6a",
   "metadata": {},
   "outputs": [],
   "source": []
  }
 ],
 "metadata": {
  "kernelspec": {
   "display_name": "teradyne",
   "language": "python",
   "name": "teradyne"
  },
  "language_info": {
   "codemirror_mode": {
    "name": "ipython",
    "version": 3
   },
   "file_extension": ".py",
   "mimetype": "text/x-python",
   "name": "python",
   "nbconvert_exporter": "python",
   "pygments_lexer": "ipython3",
   "version": "3.12.4"
  }
 },
 "nbformat": 4,
 "nbformat_minor": 5
}
