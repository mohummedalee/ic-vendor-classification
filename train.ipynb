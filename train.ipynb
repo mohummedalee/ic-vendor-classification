{
 "cells": [
  {
   "cell_type": "code",
   "execution_count": 2,
   "id": "24c6cb35-7b19-4d81-a157-caa51c98c057",
   "metadata": {},
   "outputs": [],
   "source": [
    "import os, csv, math\n",
    "os.environ[\"KERAS_BACKEND\"] = \"tensorflow\"\n",
    "\n",
    "import numpy as np \n",
    "import pandas as pd\n",
    "import matplotlib.pyplot as plt\n",
    "from tqdm import tqdm\n",
    "\n",
    "import keras_cv\n",
    "import keras\n",
    "import keras.backend as K\n",
    "import tensorflow as tf\n",
    "\n",
    "import torch\n",
    "from torch.utils.data import Dataset, DataLoader\n",
    "from torchvision.io import read_image\n",
    "from torchvision.utils import make_grid\n",
    "from torchvision.ops import Permute"
   ]
  },
  {
   "cell_type": "markdown",
   "id": "8f065a51-1e88-4cb0-af58-f5cb98f5251e",
   "metadata": {},
   "source": [
    "### ⚙️ Config + setting up utilities"
   ]
  },
  {
   "cell_type": "code",
   "execution_count": 3,
   "id": "23af7b7f-61e7-4228-b5eb-786262285402",
   "metadata": {},
   "outputs": [],
   "source": [
    "from config import CFG\n",
    "from data import ICImagesDataset\n",
    "\n",
    "import wandb\n",
    "from wandb.integration.keras import WandbMetricsLogger"
   ]
  },
  {
   "cell_type": "markdown",
   "id": "b96446bd-f564-4343-aeda-688a7d60d123",
   "metadata": {},
   "source": [
    "## 🏞️ Plotting utilities"
   ]
  },
  {
   "cell_type": "code",
   "execution_count": 12,
   "id": "2e752e96-4ee1-4b39-b4e9-9728c32c85dd",
   "metadata": {},
   "outputs": [],
   "source": [
    "def plot_loss(hist, outfile=None):\n",
    "    plt.grid(ls=':')\n",
    "    plt.plot(np.arange(len(hist['loss'])), hist['loss'], label='train loss')\n",
    "    plt.plot(np.arange(len(hist['loss'])), hist['val_loss'], label='val loss')\n",
    "    plt.legend()\n",
    "    if outfile:\n",
    "        plt.savefig(outfile, dpi=150)\n",
    "    plt.show()    \n",
    "\n",
    "def plot_acc(hist, outfile=None):\n",
    "    plt.grid(ls=':')\n",
    "    plt.plot(np.arange(len(hist['accuracy'])), hist['accuracy'], label='train accuracy')\n",
    "    plt.plot(np.arange(len(hist['accuracy'])), hist['val_accuracy'], label='val accuracy')\n",
    "    plt.legend()\n",
    "    if outfile:\n",
    "        plt.savefig(outfile, dpi=150)\n",
    "    plt.show()"
   ]
  },
  {
   "cell_type": "markdown",
   "id": "331f8ce7-9283-4dae-a400-18eb97426bb2",
   "metadata": {},
   "source": [
    "## 📁 Load train + validation dataset (as `torch.utils.data.Dataset`)"
   ]
  },
  {
   "cell_type": "code",
   "execution_count": 4,
   "id": "8ed5ddcb-8776-4dbb-b996-774a4388ea6c",
   "metadata": {
    "scrolled": true
   },
   "outputs": [],
   "source": [
    "move_channels_inward_fn = Permute([1, 2, 0])\n",
    "\n",
    "# training data\n",
    "train_dataset = ICImagesDataset(\n",
    "    annotations=CFG.annotations_fname.format(\"train\"),\n",
    "    directory=CFG.images_dirname.format(\"train\"),\n",
    "    transform=move_channels_inward_fn\n",
    ")\n",
    "train_dataloader = DataLoader(train_dataset, batch_size=CFG.train_batch_size, shuffle=True)\n",
    "\n",
    "# validation data\n",
    "val_dataset = ICImagesDataset(\n",
    "    annotations=CFG.annotations_fname.format(\"val\"),\n",
    "    directory=CFG.images_dirname.format(\"val\"),\n",
    "    transform=move_channels_inward_fn\n",
    ")\n",
    "val_dataloader = DataLoader(val_dataset, batch_size=CFG.val_batch_size, shuffle=True)"
   ]
  },
  {
   "cell_type": "markdown",
   "id": "a9076986-20e8-4ec3-b2db-6a2d5889415b",
   "metadata": {},
   "source": [
    "## 🤖📉 Build and train models"
   ]
  },
  {
   "cell_type": "code",
   "execution_count": 5,
   "id": "123c561d-917c-4229-9b36-943a0cd2bdc8",
   "metadata": {},
   "outputs": [],
   "source": [
    "train_history = {}"
   ]
  },
  {
   "cell_type": "markdown",
   "id": "3732dc62-be1a-48aa-badd-106ffde96841",
   "metadata": {},
   "source": [
    "### Approach 1 \"Post-VGG\": VGG feature extractor + Dense model on extracted features"
   ]
  },
  {
   "cell_type": "code",
   "execution_count": 6,
   "id": "54900f8f-a032-44d1-80c4-9f8144871e45",
   "metadata": {},
   "outputs": [],
   "source": [
    "# use the VGG convolutional base to extract features\n",
    "def vgg_extract_features(conv_base, dataloader):\n",
    "    all_features = []; all_labels = []\n",
    "    for images, labels in dataloader:\n",
    "        # pdb.set_trace()\n",
    "        preprocessed = keras.applications.vgg16.preprocess_input(images)\n",
    "        features = conv_base.predict(preprocessed, verbose=0)        \n",
    "        all_features.append(features)\n",
    "        all_labels.append(labels)\n",
    "\n",
    "    return np.concatenate(all_features), np.concatenate(all_labels)"
   ]
  },
  {
   "cell_type": "code",
   "execution_count": 7,
   "id": "0db5cf4e-eb63-461b-bbe4-a2d8cc1ce258",
   "metadata": {},
   "outputs": [
    {
     "data": {
      "text/html": [
       "<pre style=\"white-space:pre;overflow-x:auto;line-height:normal;font-family:Menlo,'DejaVu Sans Mono',consolas,'Courier New',monospace\"><span style=\"font-weight: bold\">Model: \"vgg16\"</span>\n",
       "</pre>\n"
      ],
      "text/plain": [
       "\u001b[1mModel: \"vgg16\"\u001b[0m\n"
      ]
     },
     "metadata": {},
     "output_type": "display_data"
    },
    {
     "data": {
      "text/html": [
       "<pre style=\"white-space:pre;overflow-x:auto;line-height:normal;font-family:Menlo,'DejaVu Sans Mono',consolas,'Courier New',monospace\">┏━━━━━━━━━━━━━━━━━━━━━━━━━━━━━━━━━┳━━━━━━━━━━━━━━━━━━━━━━━━┳━━━━━━━━━━━━━━━┓\n",
       "┃<span style=\"font-weight: bold\"> Layer (type)                    </span>┃<span style=\"font-weight: bold\"> Output Shape           </span>┃<span style=\"font-weight: bold\">       Param # </span>┃\n",
       "┡━━━━━━━━━━━━━━━━━━━━━━━━━━━━━━━━━╇━━━━━━━━━━━━━━━━━━━━━━━━╇━━━━━━━━━━━━━━━┩\n",
       "│ input_layer (<span style=\"color: #0087ff; text-decoration-color: #0087ff\">InputLayer</span>)        │ (<span style=\"color: #00d7ff; text-decoration-color: #00d7ff\">None</span>, <span style=\"color: #00af00; text-decoration-color: #00af00\">64</span>, <span style=\"color: #00af00; text-decoration-color: #00af00\">64</span>, <span style=\"color: #00af00; text-decoration-color: #00af00\">3</span>)      │             <span style=\"color: #00af00; text-decoration-color: #00af00\">0</span> │\n",
       "├─────────────────────────────────┼────────────────────────┼───────────────┤\n",
       "│ block1_conv1 (<span style=\"color: #0087ff; text-decoration-color: #0087ff\">Conv2D</span>)           │ (<span style=\"color: #00d7ff; text-decoration-color: #00d7ff\">None</span>, <span style=\"color: #00af00; text-decoration-color: #00af00\">64</span>, <span style=\"color: #00af00; text-decoration-color: #00af00\">64</span>, <span style=\"color: #00af00; text-decoration-color: #00af00\">64</span>)     │         <span style=\"color: #00af00; text-decoration-color: #00af00\">1,792</span> │\n",
       "├─────────────────────────────────┼────────────────────────┼───────────────┤\n",
       "│ block1_conv2 (<span style=\"color: #0087ff; text-decoration-color: #0087ff\">Conv2D</span>)           │ (<span style=\"color: #00d7ff; text-decoration-color: #00d7ff\">None</span>, <span style=\"color: #00af00; text-decoration-color: #00af00\">64</span>, <span style=\"color: #00af00; text-decoration-color: #00af00\">64</span>, <span style=\"color: #00af00; text-decoration-color: #00af00\">64</span>)     │        <span style=\"color: #00af00; text-decoration-color: #00af00\">36,928</span> │\n",
       "├─────────────────────────────────┼────────────────────────┼───────────────┤\n",
       "│ block1_pool (<span style=\"color: #0087ff; text-decoration-color: #0087ff\">MaxPooling2D</span>)      │ (<span style=\"color: #00d7ff; text-decoration-color: #00d7ff\">None</span>, <span style=\"color: #00af00; text-decoration-color: #00af00\">32</span>, <span style=\"color: #00af00; text-decoration-color: #00af00\">32</span>, <span style=\"color: #00af00; text-decoration-color: #00af00\">64</span>)     │             <span style=\"color: #00af00; text-decoration-color: #00af00\">0</span> │\n",
       "├─────────────────────────────────┼────────────────────────┼───────────────┤\n",
       "│ block2_conv1 (<span style=\"color: #0087ff; text-decoration-color: #0087ff\">Conv2D</span>)           │ (<span style=\"color: #00d7ff; text-decoration-color: #00d7ff\">None</span>, <span style=\"color: #00af00; text-decoration-color: #00af00\">32</span>, <span style=\"color: #00af00; text-decoration-color: #00af00\">32</span>, <span style=\"color: #00af00; text-decoration-color: #00af00\">128</span>)    │        <span style=\"color: #00af00; text-decoration-color: #00af00\">73,856</span> │\n",
       "├─────────────────────────────────┼────────────────────────┼───────────────┤\n",
       "│ block2_conv2 (<span style=\"color: #0087ff; text-decoration-color: #0087ff\">Conv2D</span>)           │ (<span style=\"color: #00d7ff; text-decoration-color: #00d7ff\">None</span>, <span style=\"color: #00af00; text-decoration-color: #00af00\">32</span>, <span style=\"color: #00af00; text-decoration-color: #00af00\">32</span>, <span style=\"color: #00af00; text-decoration-color: #00af00\">128</span>)    │       <span style=\"color: #00af00; text-decoration-color: #00af00\">147,584</span> │\n",
       "├─────────────────────────────────┼────────────────────────┼───────────────┤\n",
       "│ block2_pool (<span style=\"color: #0087ff; text-decoration-color: #0087ff\">MaxPooling2D</span>)      │ (<span style=\"color: #00d7ff; text-decoration-color: #00d7ff\">None</span>, <span style=\"color: #00af00; text-decoration-color: #00af00\">16</span>, <span style=\"color: #00af00; text-decoration-color: #00af00\">16</span>, <span style=\"color: #00af00; text-decoration-color: #00af00\">128</span>)    │             <span style=\"color: #00af00; text-decoration-color: #00af00\">0</span> │\n",
       "├─────────────────────────────────┼────────────────────────┼───────────────┤\n",
       "│ block3_conv1 (<span style=\"color: #0087ff; text-decoration-color: #0087ff\">Conv2D</span>)           │ (<span style=\"color: #00d7ff; text-decoration-color: #00d7ff\">None</span>, <span style=\"color: #00af00; text-decoration-color: #00af00\">16</span>, <span style=\"color: #00af00; text-decoration-color: #00af00\">16</span>, <span style=\"color: #00af00; text-decoration-color: #00af00\">256</span>)    │       <span style=\"color: #00af00; text-decoration-color: #00af00\">295,168</span> │\n",
       "├─────────────────────────────────┼────────────────────────┼───────────────┤\n",
       "│ block3_conv2 (<span style=\"color: #0087ff; text-decoration-color: #0087ff\">Conv2D</span>)           │ (<span style=\"color: #00d7ff; text-decoration-color: #00d7ff\">None</span>, <span style=\"color: #00af00; text-decoration-color: #00af00\">16</span>, <span style=\"color: #00af00; text-decoration-color: #00af00\">16</span>, <span style=\"color: #00af00; text-decoration-color: #00af00\">256</span>)    │       <span style=\"color: #00af00; text-decoration-color: #00af00\">590,080</span> │\n",
       "├─────────────────────────────────┼────────────────────────┼───────────────┤\n",
       "│ block3_conv3 (<span style=\"color: #0087ff; text-decoration-color: #0087ff\">Conv2D</span>)           │ (<span style=\"color: #00d7ff; text-decoration-color: #00d7ff\">None</span>, <span style=\"color: #00af00; text-decoration-color: #00af00\">16</span>, <span style=\"color: #00af00; text-decoration-color: #00af00\">16</span>, <span style=\"color: #00af00; text-decoration-color: #00af00\">256</span>)    │       <span style=\"color: #00af00; text-decoration-color: #00af00\">590,080</span> │\n",
       "├─────────────────────────────────┼────────────────────────┼───────────────┤\n",
       "│ block3_pool (<span style=\"color: #0087ff; text-decoration-color: #0087ff\">MaxPooling2D</span>)      │ (<span style=\"color: #00d7ff; text-decoration-color: #00d7ff\">None</span>, <span style=\"color: #00af00; text-decoration-color: #00af00\">8</span>, <span style=\"color: #00af00; text-decoration-color: #00af00\">8</span>, <span style=\"color: #00af00; text-decoration-color: #00af00\">256</span>)      │             <span style=\"color: #00af00; text-decoration-color: #00af00\">0</span> │\n",
       "├─────────────────────────────────┼────────────────────────┼───────────────┤\n",
       "│ block4_conv1 (<span style=\"color: #0087ff; text-decoration-color: #0087ff\">Conv2D</span>)           │ (<span style=\"color: #00d7ff; text-decoration-color: #00d7ff\">None</span>, <span style=\"color: #00af00; text-decoration-color: #00af00\">8</span>, <span style=\"color: #00af00; text-decoration-color: #00af00\">8</span>, <span style=\"color: #00af00; text-decoration-color: #00af00\">512</span>)      │     <span style=\"color: #00af00; text-decoration-color: #00af00\">1,180,160</span> │\n",
       "├─────────────────────────────────┼────────────────────────┼───────────────┤\n",
       "│ block4_conv2 (<span style=\"color: #0087ff; text-decoration-color: #0087ff\">Conv2D</span>)           │ (<span style=\"color: #00d7ff; text-decoration-color: #00d7ff\">None</span>, <span style=\"color: #00af00; text-decoration-color: #00af00\">8</span>, <span style=\"color: #00af00; text-decoration-color: #00af00\">8</span>, <span style=\"color: #00af00; text-decoration-color: #00af00\">512</span>)      │     <span style=\"color: #00af00; text-decoration-color: #00af00\">2,359,808</span> │\n",
       "├─────────────────────────────────┼────────────────────────┼───────────────┤\n",
       "│ block4_conv3 (<span style=\"color: #0087ff; text-decoration-color: #0087ff\">Conv2D</span>)           │ (<span style=\"color: #00d7ff; text-decoration-color: #00d7ff\">None</span>, <span style=\"color: #00af00; text-decoration-color: #00af00\">8</span>, <span style=\"color: #00af00; text-decoration-color: #00af00\">8</span>, <span style=\"color: #00af00; text-decoration-color: #00af00\">512</span>)      │     <span style=\"color: #00af00; text-decoration-color: #00af00\">2,359,808</span> │\n",
       "├─────────────────────────────────┼────────────────────────┼───────────────┤\n",
       "│ block4_pool (<span style=\"color: #0087ff; text-decoration-color: #0087ff\">MaxPooling2D</span>)      │ (<span style=\"color: #00d7ff; text-decoration-color: #00d7ff\">None</span>, <span style=\"color: #00af00; text-decoration-color: #00af00\">4</span>, <span style=\"color: #00af00; text-decoration-color: #00af00\">4</span>, <span style=\"color: #00af00; text-decoration-color: #00af00\">512</span>)      │             <span style=\"color: #00af00; text-decoration-color: #00af00\">0</span> │\n",
       "├─────────────────────────────────┼────────────────────────┼───────────────┤\n",
       "│ block5_conv1 (<span style=\"color: #0087ff; text-decoration-color: #0087ff\">Conv2D</span>)           │ (<span style=\"color: #00d7ff; text-decoration-color: #00d7ff\">None</span>, <span style=\"color: #00af00; text-decoration-color: #00af00\">4</span>, <span style=\"color: #00af00; text-decoration-color: #00af00\">4</span>, <span style=\"color: #00af00; text-decoration-color: #00af00\">512</span>)      │     <span style=\"color: #00af00; text-decoration-color: #00af00\">2,359,808</span> │\n",
       "├─────────────────────────────────┼────────────────────────┼───────────────┤\n",
       "│ block5_conv2 (<span style=\"color: #0087ff; text-decoration-color: #0087ff\">Conv2D</span>)           │ (<span style=\"color: #00d7ff; text-decoration-color: #00d7ff\">None</span>, <span style=\"color: #00af00; text-decoration-color: #00af00\">4</span>, <span style=\"color: #00af00; text-decoration-color: #00af00\">4</span>, <span style=\"color: #00af00; text-decoration-color: #00af00\">512</span>)      │     <span style=\"color: #00af00; text-decoration-color: #00af00\">2,359,808</span> │\n",
       "├─────────────────────────────────┼────────────────────────┼───────────────┤\n",
       "│ block5_conv3 (<span style=\"color: #0087ff; text-decoration-color: #0087ff\">Conv2D</span>)           │ (<span style=\"color: #00d7ff; text-decoration-color: #00d7ff\">None</span>, <span style=\"color: #00af00; text-decoration-color: #00af00\">4</span>, <span style=\"color: #00af00; text-decoration-color: #00af00\">4</span>, <span style=\"color: #00af00; text-decoration-color: #00af00\">512</span>)      │     <span style=\"color: #00af00; text-decoration-color: #00af00\">2,359,808</span> │\n",
       "├─────────────────────────────────┼────────────────────────┼───────────────┤\n",
       "│ block5_pool (<span style=\"color: #0087ff; text-decoration-color: #0087ff\">MaxPooling2D</span>)      │ (<span style=\"color: #00d7ff; text-decoration-color: #00d7ff\">None</span>, <span style=\"color: #00af00; text-decoration-color: #00af00\">2</span>, <span style=\"color: #00af00; text-decoration-color: #00af00\">2</span>, <span style=\"color: #00af00; text-decoration-color: #00af00\">512</span>)      │             <span style=\"color: #00af00; text-decoration-color: #00af00\">0</span> │\n",
       "└─────────────────────────────────┴────────────────────────┴───────────────┘\n",
       "</pre>\n"
      ],
      "text/plain": [
       "┏━━━━━━━━━━━━━━━━━━━━━━━━━━━━━━━━━┳━━━━━━━━━━━━━━━━━━━━━━━━┳━━━━━━━━━━━━━━━┓\n",
       "┃\u001b[1m \u001b[0m\u001b[1mLayer (type)                   \u001b[0m\u001b[1m \u001b[0m┃\u001b[1m \u001b[0m\u001b[1mOutput Shape          \u001b[0m\u001b[1m \u001b[0m┃\u001b[1m \u001b[0m\u001b[1m      Param #\u001b[0m\u001b[1m \u001b[0m┃\n",
       "┡━━━━━━━━━━━━━━━━━━━━━━━━━━━━━━━━━╇━━━━━━━━━━━━━━━━━━━━━━━━╇━━━━━━━━━━━━━━━┩\n",
       "│ input_layer (\u001b[38;5;33mInputLayer\u001b[0m)        │ (\u001b[38;5;45mNone\u001b[0m, \u001b[38;5;34m64\u001b[0m, \u001b[38;5;34m64\u001b[0m, \u001b[38;5;34m3\u001b[0m)      │             \u001b[38;5;34m0\u001b[0m │\n",
       "├─────────────────────────────────┼────────────────────────┼───────────────┤\n",
       "│ block1_conv1 (\u001b[38;5;33mConv2D\u001b[0m)           │ (\u001b[38;5;45mNone\u001b[0m, \u001b[38;5;34m64\u001b[0m, \u001b[38;5;34m64\u001b[0m, \u001b[38;5;34m64\u001b[0m)     │         \u001b[38;5;34m1,792\u001b[0m │\n",
       "├─────────────────────────────────┼────────────────────────┼───────────────┤\n",
       "│ block1_conv2 (\u001b[38;5;33mConv2D\u001b[0m)           │ (\u001b[38;5;45mNone\u001b[0m, \u001b[38;5;34m64\u001b[0m, \u001b[38;5;34m64\u001b[0m, \u001b[38;5;34m64\u001b[0m)     │        \u001b[38;5;34m36,928\u001b[0m │\n",
       "├─────────────────────────────────┼────────────────────────┼───────────────┤\n",
       "│ block1_pool (\u001b[38;5;33mMaxPooling2D\u001b[0m)      │ (\u001b[38;5;45mNone\u001b[0m, \u001b[38;5;34m32\u001b[0m, \u001b[38;5;34m32\u001b[0m, \u001b[38;5;34m64\u001b[0m)     │             \u001b[38;5;34m0\u001b[0m │\n",
       "├─────────────────────────────────┼────────────────────────┼───────────────┤\n",
       "│ block2_conv1 (\u001b[38;5;33mConv2D\u001b[0m)           │ (\u001b[38;5;45mNone\u001b[0m, \u001b[38;5;34m32\u001b[0m, \u001b[38;5;34m32\u001b[0m, \u001b[38;5;34m128\u001b[0m)    │        \u001b[38;5;34m73,856\u001b[0m │\n",
       "├─────────────────────────────────┼────────────────────────┼───────────────┤\n",
       "│ block2_conv2 (\u001b[38;5;33mConv2D\u001b[0m)           │ (\u001b[38;5;45mNone\u001b[0m, \u001b[38;5;34m32\u001b[0m, \u001b[38;5;34m32\u001b[0m, \u001b[38;5;34m128\u001b[0m)    │       \u001b[38;5;34m147,584\u001b[0m │\n",
       "├─────────────────────────────────┼────────────────────────┼───────────────┤\n",
       "│ block2_pool (\u001b[38;5;33mMaxPooling2D\u001b[0m)      │ (\u001b[38;5;45mNone\u001b[0m, \u001b[38;5;34m16\u001b[0m, \u001b[38;5;34m16\u001b[0m, \u001b[38;5;34m128\u001b[0m)    │             \u001b[38;5;34m0\u001b[0m │\n",
       "├─────────────────────────────────┼────────────────────────┼───────────────┤\n",
       "│ block3_conv1 (\u001b[38;5;33mConv2D\u001b[0m)           │ (\u001b[38;5;45mNone\u001b[0m, \u001b[38;5;34m16\u001b[0m, \u001b[38;5;34m16\u001b[0m, \u001b[38;5;34m256\u001b[0m)    │       \u001b[38;5;34m295,168\u001b[0m │\n",
       "├─────────────────────────────────┼────────────────────────┼───────────────┤\n",
       "│ block3_conv2 (\u001b[38;5;33mConv2D\u001b[0m)           │ (\u001b[38;5;45mNone\u001b[0m, \u001b[38;5;34m16\u001b[0m, \u001b[38;5;34m16\u001b[0m, \u001b[38;5;34m256\u001b[0m)    │       \u001b[38;5;34m590,080\u001b[0m │\n",
       "├─────────────────────────────────┼────────────────────────┼───────────────┤\n",
       "│ block3_conv3 (\u001b[38;5;33mConv2D\u001b[0m)           │ (\u001b[38;5;45mNone\u001b[0m, \u001b[38;5;34m16\u001b[0m, \u001b[38;5;34m16\u001b[0m, \u001b[38;5;34m256\u001b[0m)    │       \u001b[38;5;34m590,080\u001b[0m │\n",
       "├─────────────────────────────────┼────────────────────────┼───────────────┤\n",
       "│ block3_pool (\u001b[38;5;33mMaxPooling2D\u001b[0m)      │ (\u001b[38;5;45mNone\u001b[0m, \u001b[38;5;34m8\u001b[0m, \u001b[38;5;34m8\u001b[0m, \u001b[38;5;34m256\u001b[0m)      │             \u001b[38;5;34m0\u001b[0m │\n",
       "├─────────────────────────────────┼────────────────────────┼───────────────┤\n",
       "│ block4_conv1 (\u001b[38;5;33mConv2D\u001b[0m)           │ (\u001b[38;5;45mNone\u001b[0m, \u001b[38;5;34m8\u001b[0m, \u001b[38;5;34m8\u001b[0m, \u001b[38;5;34m512\u001b[0m)      │     \u001b[38;5;34m1,180,160\u001b[0m │\n",
       "├─────────────────────────────────┼────────────────────────┼───────────────┤\n",
       "│ block4_conv2 (\u001b[38;5;33mConv2D\u001b[0m)           │ (\u001b[38;5;45mNone\u001b[0m, \u001b[38;5;34m8\u001b[0m, \u001b[38;5;34m8\u001b[0m, \u001b[38;5;34m512\u001b[0m)      │     \u001b[38;5;34m2,359,808\u001b[0m │\n",
       "├─────────────────────────────────┼────────────────────────┼───────────────┤\n",
       "│ block4_conv3 (\u001b[38;5;33mConv2D\u001b[0m)           │ (\u001b[38;5;45mNone\u001b[0m, \u001b[38;5;34m8\u001b[0m, \u001b[38;5;34m8\u001b[0m, \u001b[38;5;34m512\u001b[0m)      │     \u001b[38;5;34m2,359,808\u001b[0m │\n",
       "├─────────────────────────────────┼────────────────────────┼───────────────┤\n",
       "│ block4_pool (\u001b[38;5;33mMaxPooling2D\u001b[0m)      │ (\u001b[38;5;45mNone\u001b[0m, \u001b[38;5;34m4\u001b[0m, \u001b[38;5;34m4\u001b[0m, \u001b[38;5;34m512\u001b[0m)      │             \u001b[38;5;34m0\u001b[0m │\n",
       "├─────────────────────────────────┼────────────────────────┼───────────────┤\n",
       "│ block5_conv1 (\u001b[38;5;33mConv2D\u001b[0m)           │ (\u001b[38;5;45mNone\u001b[0m, \u001b[38;5;34m4\u001b[0m, \u001b[38;5;34m4\u001b[0m, \u001b[38;5;34m512\u001b[0m)      │     \u001b[38;5;34m2,359,808\u001b[0m │\n",
       "├─────────────────────────────────┼────────────────────────┼───────────────┤\n",
       "│ block5_conv2 (\u001b[38;5;33mConv2D\u001b[0m)           │ (\u001b[38;5;45mNone\u001b[0m, \u001b[38;5;34m4\u001b[0m, \u001b[38;5;34m4\u001b[0m, \u001b[38;5;34m512\u001b[0m)      │     \u001b[38;5;34m2,359,808\u001b[0m │\n",
       "├─────────────────────────────────┼────────────────────────┼───────────────┤\n",
       "│ block5_conv3 (\u001b[38;5;33mConv2D\u001b[0m)           │ (\u001b[38;5;45mNone\u001b[0m, \u001b[38;5;34m4\u001b[0m, \u001b[38;5;34m4\u001b[0m, \u001b[38;5;34m512\u001b[0m)      │     \u001b[38;5;34m2,359,808\u001b[0m │\n",
       "├─────────────────────────────────┼────────────────────────┼───────────────┤\n",
       "│ block5_pool (\u001b[38;5;33mMaxPooling2D\u001b[0m)      │ (\u001b[38;5;45mNone\u001b[0m, \u001b[38;5;34m2\u001b[0m, \u001b[38;5;34m2\u001b[0m, \u001b[38;5;34m512\u001b[0m)      │             \u001b[38;5;34m0\u001b[0m │\n",
       "└─────────────────────────────────┴────────────────────────┴───────────────┘\n"
      ]
     },
     "metadata": {},
     "output_type": "display_data"
    },
    {
     "data": {
      "text/html": [
       "<pre style=\"white-space:pre;overflow-x:auto;line-height:normal;font-family:Menlo,'DejaVu Sans Mono',consolas,'Courier New',monospace\"><span style=\"font-weight: bold\"> Total params: </span><span style=\"color: #00af00; text-decoration-color: #00af00\">14,714,688</span> (56.13 MB)\n",
       "</pre>\n"
      ],
      "text/plain": [
       "\u001b[1m Total params: \u001b[0m\u001b[38;5;34m14,714,688\u001b[0m (56.13 MB)\n"
      ]
     },
     "metadata": {},
     "output_type": "display_data"
    },
    {
     "data": {
      "text/html": [
       "<pre style=\"white-space:pre;overflow-x:auto;line-height:normal;font-family:Menlo,'DejaVu Sans Mono',consolas,'Courier New',monospace\"><span style=\"font-weight: bold\"> Trainable params: </span><span style=\"color: #00af00; text-decoration-color: #00af00\">14,714,688</span> (56.13 MB)\n",
       "</pre>\n"
      ],
      "text/plain": [
       "\u001b[1m Trainable params: \u001b[0m\u001b[38;5;34m14,714,688\u001b[0m (56.13 MB)\n"
      ]
     },
     "metadata": {},
     "output_type": "display_data"
    },
    {
     "data": {
      "text/html": [
       "<pre style=\"white-space:pre;overflow-x:auto;line-height:normal;font-family:Menlo,'DejaVu Sans Mono',consolas,'Courier New',monospace\"><span style=\"font-weight: bold\"> Non-trainable params: </span><span style=\"color: #00af00; text-decoration-color: #00af00\">0</span> (0.00 B)\n",
       "</pre>\n"
      ],
      "text/plain": [
       "\u001b[1m Non-trainable params: \u001b[0m\u001b[38;5;34m0\u001b[0m (0.00 B)\n"
      ]
     },
     "metadata": {},
     "output_type": "display_data"
    },
    {
     "name": "stdout",
     "output_type": "stream",
     "text": [
      "None\n"
     ]
    }
   ],
   "source": [
    "vgg_base = keras.applications.vgg16.VGG16(\n",
    "    weights=\"imagenet\",\n",
    "    include_top=False,\n",
    "    input_shape=(CFG.input_shape, CFG.input_shape, 3)\n",
    ")\n",
    "print(vgg_base.summary())\n",
    "\n",
    "# vectorize data into VGG-friendly format\n",
    "vgg_extracted_train_features, vgg_train_labels = vgg_extract_features(vgg_base, train_dataloader)\n",
    "vgg_extracted_val_features, vgg_val_labels = vgg_extract_features(vgg_base, val_dataloader)"
   ]
  },
  {
   "cell_type": "code",
   "execution_count": 11,
   "id": "2f7954fe-b902-4f9c-83de-a7db136f9d51",
   "metadata": {
    "scrolled": true
   },
   "outputs": [
    {
     "name": "stdout",
     "output_type": "stream",
     "text": [
      "Epoch 1/50\n",
      "\u001b[1m140/140\u001b[0m \u001b[32m━━━━━━━━━━━━━━━━━━━━\u001b[0m\u001b[37m\u001b[0m \u001b[1m1s\u001b[0m 3ms/step - accuracy: 0.1234 - loss: 74.5165 - val_accuracy: 0.3146 - val_loss: 30.2445\n",
      "Epoch 2/50\n",
      "\u001b[1m140/140\u001b[0m \u001b[32m━━━━━━━━━━━━━━━━━━━━\u001b[0m\u001b[37m\u001b[0m \u001b[1m0s\u001b[0m 2ms/step - accuracy: 0.2802 - loss: 44.9040 - val_accuracy: 0.3847 - val_loss: 27.2054\n",
      "Epoch 3/50\n",
      "\u001b[1m140/140\u001b[0m \u001b[32m━━━━━━━━━━━━━━━━━━━━\u001b[0m\u001b[37m\u001b[0m \u001b[1m0s\u001b[0m 2ms/step - accuracy: 0.3395 - loss: 34.0509 - val_accuracy: 0.3536 - val_loss: 24.9085\n",
      "Epoch 4/50\n",
      "\u001b[1m140/140\u001b[0m \u001b[32m━━━━━━━━━━━━━━━━━━━━\u001b[0m\u001b[37m\u001b[0m \u001b[1m0s\u001b[0m 2ms/step - accuracy: 0.3840 - loss: 26.8083 - val_accuracy: 0.4128 - val_loss: 22.1907\n",
      "Epoch 5/50\n",
      "\u001b[1m140/140\u001b[0m \u001b[32m━━━━━━━━━━━━━━━━━━━━\u001b[0m\u001b[37m\u001b[0m \u001b[1m0s\u001b[0m 2ms/step - accuracy: 0.4313 - loss: 22.7437 - val_accuracy: 0.4143 - val_loss: 18.6159\n",
      "Epoch 6/50\n",
      "\u001b[1m140/140\u001b[0m \u001b[32m━━━━━━━━━━━━━━━━━━━━\u001b[0m\u001b[37m\u001b[0m \u001b[1m0s\u001b[0m 2ms/step - accuracy: 0.4680 - loss: 19.3093 - val_accuracy: 0.4642 - val_loss: 18.9343\n",
      "Epoch 7/50\n",
      "\u001b[1m140/140\u001b[0m \u001b[32m━━━━━━━━━━━━━━━━━━━━\u001b[0m\u001b[37m\u001b[0m \u001b[1m0s\u001b[0m 2ms/step - accuracy: 0.4542 - loss: 17.1922 - val_accuracy: 0.4221 - val_loss: 18.5397\n",
      "Epoch 8/50\n",
      "\u001b[1m140/140\u001b[0m \u001b[32m━━━━━━━━━━━━━━━━━━━━\u001b[0m\u001b[37m\u001b[0m \u001b[1m0s\u001b[0m 2ms/step - accuracy: 0.4882 - loss: 14.7970 - val_accuracy: 0.4455 - val_loss: 16.1674\n",
      "Epoch 9/50\n",
      "\u001b[1m140/140\u001b[0m \u001b[32m━━━━━━━━━━━━━━━━━━━━\u001b[0m\u001b[37m\u001b[0m \u001b[1m0s\u001b[0m 2ms/step - accuracy: 0.5022 - loss: 13.0518 - val_accuracy: 0.4393 - val_loss: 15.2533\n",
      "Epoch 10/50\n",
      "\u001b[1m140/140\u001b[0m \u001b[32m━━━━━━━━━━━━━━━━━━━━\u001b[0m\u001b[37m\u001b[0m \u001b[1m0s\u001b[0m 2ms/step - accuracy: 0.5085 - loss: 11.8041 - val_accuracy: 0.4424 - val_loss: 16.4655\n",
      "Epoch 11/50\n",
      "\u001b[1m140/140\u001b[0m \u001b[32m━━━━━━━━━━━━━━━━━━━━\u001b[0m\u001b[37m\u001b[0m \u001b[1m0s\u001b[0m 2ms/step - accuracy: 0.5126 - loss: 11.1285 - val_accuracy: 0.4548 - val_loss: 15.0825\n",
      "Epoch 12/50\n",
      "\u001b[1m140/140\u001b[0m \u001b[32m━━━━━━━━━━━━━━━━━━━━\u001b[0m\u001b[37m\u001b[0m \u001b[1m0s\u001b[0m 2ms/step - accuracy: 0.5407 - loss: 9.3997 - val_accuracy: 0.4424 - val_loss: 14.4201\n",
      "Epoch 13/50\n",
      "\u001b[1m140/140\u001b[0m \u001b[32m━━━━━━━━━━━━━━━━━━━━\u001b[0m\u001b[37m\u001b[0m \u001b[1m0s\u001b[0m 2ms/step - accuracy: 0.5375 - loss: 8.7742 - val_accuracy: 0.4393 - val_loss: 13.2145\n",
      "Epoch 14/50\n",
      "\u001b[1m140/140\u001b[0m \u001b[32m━━━━━━━━━━━━━━━━━━━━\u001b[0m\u001b[37m\u001b[0m \u001b[1m0s\u001b[0m 2ms/step - accuracy: 0.5238 - loss: 8.6167 - val_accuracy: 0.4595 - val_loss: 13.3530\n",
      "Epoch 15/50\n",
      "\u001b[1m140/140\u001b[0m \u001b[32m━━━━━━━━━━━━━━━━━━━━\u001b[0m\u001b[37m\u001b[0m \u001b[1m0s\u001b[0m 3ms/step - accuracy: 0.5453 - loss: 7.9496 - val_accuracy: 0.4875 - val_loss: 11.0777\n",
      "Epoch 16/50\n",
      "\u001b[1m140/140\u001b[0m \u001b[32m━━━━━━━━━━━━━━━━━━━━\u001b[0m\u001b[37m\u001b[0m \u001b[1m0s\u001b[0m 2ms/step - accuracy: 0.5615 - loss: 7.3585 - val_accuracy: 0.4611 - val_loss: 12.2302\n",
      "Epoch 17/50\n",
      "\u001b[1m140/140\u001b[0m \u001b[32m━━━━━━━━━━━━━━━━━━━━\u001b[0m\u001b[37m\u001b[0m \u001b[1m0s\u001b[0m 2ms/step - accuracy: 0.5520 - loss: 7.1937 - val_accuracy: 0.4642 - val_loss: 11.4934\n",
      "Epoch 18/50\n",
      "\u001b[1m140/140\u001b[0m \u001b[32m━━━━━━━━━━━━━━━━━━━━\u001b[0m\u001b[37m\u001b[0m \u001b[1m0s\u001b[0m 2ms/step - accuracy: 0.5806 - loss: 6.0207 - val_accuracy: 0.4315 - val_loss: 12.0939\n",
      "Epoch 19/50\n",
      "\u001b[1m140/140\u001b[0m \u001b[32m━━━━━━━━━━━━━━━━━━━━\u001b[0m\u001b[37m\u001b[0m \u001b[1m0s\u001b[0m 2ms/step - accuracy: 0.5852 - loss: 6.0085 - val_accuracy: 0.4673 - val_loss: 10.9051\n",
      "Epoch 20/50\n",
      "\u001b[1m140/140\u001b[0m \u001b[32m━━━━━━━━━━━━━━━━━━━━\u001b[0m\u001b[37m\u001b[0m \u001b[1m0s\u001b[0m 2ms/step - accuracy: 0.5979 - loss: 5.8373 - val_accuracy: 0.4611 - val_loss: 10.8072\n",
      "Epoch 21/50\n",
      "\u001b[1m140/140\u001b[0m \u001b[32m━━━━━━━━━━━━━━━━━━━━\u001b[0m\u001b[37m\u001b[0m \u001b[1m0s\u001b[0m 2ms/step - accuracy: 0.5940 - loss: 5.4439 - val_accuracy: 0.4502 - val_loss: 10.8874\n",
      "Epoch 22/50\n",
      "\u001b[1m140/140\u001b[0m \u001b[32m━━━━━━━━━━━━━━━━━━━━\u001b[0m\u001b[37m\u001b[0m \u001b[1m0s\u001b[0m 2ms/step - accuracy: 0.5988 - loss: 5.1350 - val_accuracy: 0.4408 - val_loss: 11.1918\n",
      "Epoch 23/50\n",
      "\u001b[1m140/140\u001b[0m \u001b[32m━━━━━━━━━━━━━━━━━━━━\u001b[0m\u001b[37m\u001b[0m \u001b[1m0s\u001b[0m 2ms/step - accuracy: 0.5818 - loss: 5.1494 - val_accuracy: 0.4424 - val_loss: 9.7963\n",
      "Epoch 24/50\n",
      "\u001b[1m140/140\u001b[0m \u001b[32m━━━━━━━━━━━━━━━━━━━━\u001b[0m\u001b[37m\u001b[0m \u001b[1m0s\u001b[0m 2ms/step - accuracy: 0.6157 - loss: 4.6217 - val_accuracy: 0.4595 - val_loss: 10.9084\n",
      "Epoch 25/50\n",
      "\u001b[1m140/140\u001b[0m \u001b[32m━━━━━━━━━━━━━━━━━━━━\u001b[0m\u001b[37m\u001b[0m \u001b[1m0s\u001b[0m 2ms/step - accuracy: 0.6135 - loss: 4.9456 - val_accuracy: 0.4626 - val_loss: 10.9870\n",
      "Epoch 26/50\n",
      "\u001b[1m140/140\u001b[0m \u001b[32m━━━━━━━━━━━━━━━━━━━━\u001b[0m\u001b[37m\u001b[0m \u001b[1m0s\u001b[0m 2ms/step - accuracy: 0.6047 - loss: 4.8956 - val_accuracy: 0.4704 - val_loss: 10.3252\n",
      "Epoch 27/50\n",
      "\u001b[1m140/140\u001b[0m \u001b[32m━━━━━━━━━━━━━━━━━━━━\u001b[0m\u001b[37m\u001b[0m \u001b[1m0s\u001b[0m 2ms/step - accuracy: 0.6236 - loss: 4.5092 - val_accuracy: 0.4657 - val_loss: 9.6490\n",
      "Epoch 28/50\n",
      "\u001b[1m140/140\u001b[0m \u001b[32m━━━━━━━━━━━━━━━━━━━━\u001b[0m\u001b[37m\u001b[0m \u001b[1m0s\u001b[0m 2ms/step - accuracy: 0.6235 - loss: 4.2647 - val_accuracy: 0.4502 - val_loss: 11.1150\n",
      "Epoch 29/50\n",
      "\u001b[1m140/140\u001b[0m \u001b[32m━━━━━━━━━━━━━━━━━━━━\u001b[0m\u001b[37m\u001b[0m \u001b[1m0s\u001b[0m 2ms/step - accuracy: 0.6383 - loss: 4.3436 - val_accuracy: 0.4782 - val_loss: 10.2336\n",
      "Epoch 30/50\n",
      "\u001b[1m140/140\u001b[0m \u001b[32m━━━━━━━━━━━━━━━━━━━━\u001b[0m\u001b[37m\u001b[0m \u001b[1m0s\u001b[0m 3ms/step - accuracy: 0.6414 - loss: 4.4179 - val_accuracy: 0.4766 - val_loss: 9.8304\n",
      "Epoch 31/50\n",
      "\u001b[1m140/140\u001b[0m \u001b[32m━━━━━━━━━━━━━━━━━━━━\u001b[0m\u001b[37m\u001b[0m \u001b[1m0s\u001b[0m 2ms/step - accuracy: 0.6237 - loss: 4.2675 - val_accuracy: 0.4455 - val_loss: 11.3484\n",
      "Epoch 32/50\n",
      "\u001b[1m140/140\u001b[0m \u001b[32m━━━━━━━━━━━━━━━━━━━━\u001b[0m\u001b[37m\u001b[0m \u001b[1m0s\u001b[0m 2ms/step - accuracy: 0.6329 - loss: 4.3245 - val_accuracy: 0.4439 - val_loss: 11.1347\n",
      "Epoch 33/50\n",
      "\u001b[1m140/140\u001b[0m \u001b[32m━━━━━━━━━━━━━━━━━━━━\u001b[0m\u001b[37m\u001b[0m \u001b[1m0s\u001b[0m 2ms/step - accuracy: 0.6422 - loss: 4.2545 - val_accuracy: 0.4766 - val_loss: 10.5561\n",
      "Epoch 34/50\n",
      "\u001b[1m140/140\u001b[0m \u001b[32m━━━━━━━━━━━━━━━━━━━━\u001b[0m\u001b[37m\u001b[0m \u001b[1m0s\u001b[0m 2ms/step - accuracy: 0.6577 - loss: 4.0560 - val_accuracy: 0.4673 - val_loss: 10.7241\n",
      "Epoch 35/50\n",
      "\u001b[1m140/140\u001b[0m \u001b[32m━━━━━━━━━━━━━━━━━━━━\u001b[0m\u001b[37m\u001b[0m \u001b[1m0s\u001b[0m 2ms/step - accuracy: 0.6500 - loss: 3.9754 - val_accuracy: 0.4704 - val_loss: 10.4452\n",
      "Epoch 36/50\n",
      "\u001b[1m140/140\u001b[0m \u001b[32m━━━━━━━━━━━━━━━━━━━━\u001b[0m\u001b[37m\u001b[0m \u001b[1m0s\u001b[0m 2ms/step - accuracy: 0.6655 - loss: 3.6611 - val_accuracy: 0.4548 - val_loss: 11.1480\n",
      "Epoch 37/50\n",
      "\u001b[1m140/140\u001b[0m \u001b[32m━━━━━━━━━━━━━━━━━━━━\u001b[0m\u001b[37m\u001b[0m \u001b[1m0s\u001b[0m 2ms/step - accuracy: 0.6612 - loss: 3.9263 - val_accuracy: 0.4595 - val_loss: 10.9173\n",
      "Epoch 38/50\n",
      "\u001b[1m140/140\u001b[0m \u001b[32m━━━━━━━━━━━━━━━━━━━━\u001b[0m\u001b[37m\u001b[0m \u001b[1m0s\u001b[0m 2ms/step - accuracy: 0.6541 - loss: 3.9722 - val_accuracy: 0.4766 - val_loss: 10.6163\n",
      "Epoch 39/50\n",
      "\u001b[1m140/140\u001b[0m \u001b[32m━━━━━━━━━━━━━━━━━━━━\u001b[0m\u001b[37m\u001b[0m \u001b[1m0s\u001b[0m 2ms/step - accuracy: 0.6846 - loss: 3.6176 - val_accuracy: 0.4688 - val_loss: 10.4354\n",
      "Epoch 40/50\n",
      "\u001b[1m140/140\u001b[0m \u001b[32m━━━━━━━━━━━━━━━━━━━━\u001b[0m\u001b[37m\u001b[0m \u001b[1m0s\u001b[0m 2ms/step - accuracy: 0.6729 - loss: 3.6608 - val_accuracy: 0.4470 - val_loss: 11.5716\n",
      "Epoch 41/50\n",
      "\u001b[1m140/140\u001b[0m \u001b[32m━━━━━━━━━━━━━━━━━━━━\u001b[0m\u001b[37m\u001b[0m \u001b[1m0s\u001b[0m 2ms/step - accuracy: 0.6719 - loss: 3.5966 - val_accuracy: 0.4595 - val_loss: 11.2393\n",
      "Epoch 42/50\n",
      "\u001b[1m140/140\u001b[0m \u001b[32m━━━━━━━━━━━━━━━━━━━━\u001b[0m\u001b[37m\u001b[0m \u001b[1m0s\u001b[0m 2ms/step - accuracy: 0.6869 - loss: 3.6293 - val_accuracy: 0.4720 - val_loss: 11.5848\n",
      "Epoch 43/50\n",
      "\u001b[1m140/140\u001b[0m \u001b[32m━━━━━━━━━━━━━━━━━━━━\u001b[0m\u001b[37m\u001b[0m \u001b[1m0s\u001b[0m 2ms/step - accuracy: 0.6944 - loss: 3.8055 - val_accuracy: 0.4611 - val_loss: 12.0614\n",
      "Epoch 44/50\n",
      "\u001b[1m140/140\u001b[0m \u001b[32m━━━━━━━━━━━━━━━━━━━━\u001b[0m\u001b[37m\u001b[0m \u001b[1m0s\u001b[0m 2ms/step - accuracy: 0.6862 - loss: 3.6325 - val_accuracy: 0.4642 - val_loss: 11.2735\n",
      "Epoch 45/50\n",
      "\u001b[1m140/140\u001b[0m \u001b[32m━━━━━━━━━━━━━━━━━━━━\u001b[0m\u001b[37m\u001b[0m \u001b[1m0s\u001b[0m 2ms/step - accuracy: 0.6919 - loss: 3.5440 - val_accuracy: 0.4486 - val_loss: 11.8617\n",
      "Epoch 46/50\n",
      "\u001b[1m140/140\u001b[0m \u001b[32m━━━━━━━━━━━━━━━━━━━━\u001b[0m\u001b[37m\u001b[0m \u001b[1m0s\u001b[0m 2ms/step - accuracy: 0.6954 - loss: 3.6959 - val_accuracy: 0.4595 - val_loss: 12.1272\n",
      "Epoch 47/50\n",
      "\u001b[1m140/140\u001b[0m \u001b[32m━━━━━━━━━━━━━━━━━━━━\u001b[0m\u001b[37m\u001b[0m \u001b[1m0s\u001b[0m 2ms/step - accuracy: 0.7028 - loss: 3.6721 - val_accuracy: 0.4673 - val_loss: 12.1989\n",
      "Epoch 48/50\n",
      "\u001b[1m140/140\u001b[0m \u001b[32m━━━━━━━━━━━━━━━━━━━━\u001b[0m\u001b[37m\u001b[0m \u001b[1m0s\u001b[0m 2ms/step - accuracy: 0.6875 - loss: 3.7007 - val_accuracy: 0.4657 - val_loss: 12.2904\n",
      "Epoch 49/50\n",
      "\u001b[1m140/140\u001b[0m \u001b[32m━━━━━━━━━━━━━━━━━━━━\u001b[0m\u001b[37m\u001b[0m \u001b[1m0s\u001b[0m 2ms/step - accuracy: 0.6881 - loss: 3.4736 - val_accuracy: 0.4673 - val_loss: 12.5742\n",
      "Epoch 50/50\n",
      "\u001b[1m140/140\u001b[0m \u001b[32m━━━━━━━━━━━━━━━━━━━━\u001b[0m\u001b[37m\u001b[0m \u001b[1m0s\u001b[0m 2ms/step - accuracy: 0.6923 - loss: 3.6333 - val_accuracy: 0.4393 - val_loss: 13.2143\n"
     ]
    }
   ],
   "source": [
    "# ===== build Post-VGG classifier =====\n",
    "inputs = keras.Input(shape=(2, 2, 512))  # this is the output shape of VGG's last layer\n",
    "x = keras.layers.Flatten()(inputs)  # this will convert to 2*2*512=2048 dims\n",
    "x = keras.layers.Dense(256)(x)\n",
    "x = keras.layers.Dropout(0.7)(x)  # regularization\n",
    "outputs = keras.layers.Dense(CFG.label_count, activation=\"softmax\")(x)  # output is softmax over all vendors\n",
    "post_vgg_model = keras.Model(inputs, outputs, name=\"post-vgg-classifier\")\n",
    "\n",
    "# ===== set up for training (these baseline training runs don't log to wandb) =====\n",
    "post_vgg_model.compile(\n",
    "    loss=\"categorical_crossentropy\",\n",
    "    optimizer=\"rmsprop\",\n",
    "    metrics=[\"accuracy\"]\n",
    ")\n",
    "callbacks = [\n",
    "    keras.callbacks.ModelCheckpoint(\n",
    "        filepath=\"models/post-vgg-model.keras\",\n",
    "        save_best_only=True,\n",
    "        monitor=\"val_accuracy\"\n",
    "    )\n",
    "]\n",
    "\n",
    "# run training\n",
    "history_post_vgg = post_vgg_model.fit(\n",
    "    vgg_extracted_train_features,\n",
    "    vgg_train_labels,\n",
    "    validation_data = (vgg_extracted_val_features, vgg_val_labels),\n",
    "    callbacks=callbacks,\n",
    "    epochs=50\n",
    ")\n",
    "\n",
    "# save loss for visualizing later\n",
    "train_history['post-vgg'] = history_post_vgg.history"
   ]
  },
  {
   "cell_type": "markdown",
   "id": "ffafcc7a-5a00-495f-bb88-2932896979e1",
   "metadata": {},
   "source": [
    "### Approach 2 \"Post-VGG-Aug\": Same as approach 1 but with data augmentation"
   ]
  },
  {
   "cell_type": "code",
   "execution_count": 15,
   "id": "e59c3534-9f16-4fb9-bc2e-5ad4bb10c36f",
   "metadata": {},
   "outputs": [],
   "source": [
    "# make sure backbone layers are frozen so we don't end up fine-tuning\n",
    "vgg_base = keras.applications.vgg16.VGG16(\n",
    "    weights=\"imagenet\",\n",
    "    include_top=False\n",
    ")\n",
    "vgg_base.trainable = False\n",
    "\n",
    "# set up augmentation pipeline\n",
    "data_augmentation = keras.Sequential(\n",
    "    [\n",
    "        keras.layers.RandomFlip(\"horizontal\"),\n",
    "        keras.layers.RandomRotation(0.1),\n",
    "    ]\n",
    ")\n",
    "\n",
    "#  ==== build model: augmentation -> VGG -> dense classifier ====\n",
    "inputs = keras.Input(shape=(CFG.input_shape, CFG.input_shape, 3))\n",
    "x = data_augmentation(inputs)\n",
    "x = keras.applications.vgg16.preprocess_input(x)\n",
    "x = vgg_base(x)\n",
    "x = keras.layers.Flatten()(x)\n",
    "# use Xavier initialization this gime\n",
    "x = keras.layers.Dense(256, kernel_initializer=keras.initializers.GlorotNormal(seed=42))(x)\n",
    "# use higher dropout to generalize even better\n",
    "x = keras.layers.Dropout(0.65)(x)\n",
    "outputs = keras.layers.Dense(CFG.label_count, activation=\"softmax\")(x)\n",
    "\n",
    "post_vgg_aug = keras.Model(inputs, outputs, name=\"post-vgg-aug-model\")\n",
    "post_vgg_aug.compile(\n",
    "    loss=\"categorical_crossentropy\",\n",
    "    optimizer=\"rmsprop\",\n",
    "    metrics=[\"accuracy\"]\n",
    ")"
   ]
  },
  {
   "cell_type": "code",
   "execution_count": 18,
   "id": "9f67f706-07e8-407e-8807-6236da8ca571",
   "metadata": {
    "scrolled": true
   },
   "outputs": [
    {
     "name": "stdout",
     "output_type": "stream",
     "text": [
      "Epoch 1/50\n",
      "\u001b[1m140/140\u001b[0m \u001b[32m━━━━━━━━━━━━━━━━━━━━\u001b[0m\u001b[37m\u001b[0m \u001b[1m29s\u001b[0m 204ms/step - accuracy: 0.5113 - loss: 3.1147 - val_accuracy: 0.4938 - val_loss: 3.3805\n",
      "Epoch 2/50\n",
      "\u001b[1m140/140\u001b[0m \u001b[32m━━━━━━━━━━━━━━━━━━━━\u001b[0m\u001b[37m\u001b[0m \u001b[1m28s\u001b[0m 200ms/step - accuracy: 0.5185 - loss: 3.0557 - val_accuracy: 0.4875 - val_loss: 3.3357\n",
      "Epoch 3/50\n",
      "\u001b[1m140/140\u001b[0m \u001b[32m━━━━━━━━━━━━━━━━━━━━\u001b[0m\u001b[37m\u001b[0m \u001b[1m27s\u001b[0m 196ms/step - accuracy: 0.5068 - loss: 3.1290 - val_accuracy: 0.5265 - val_loss: 3.0282\n",
      "Epoch 4/50\n",
      "\u001b[1m140/140\u001b[0m \u001b[32m━━━━━━━━━━━━━━━━━━━━\u001b[0m\u001b[37m\u001b[0m \u001b[1m27s\u001b[0m 195ms/step - accuracy: 0.5188 - loss: 3.0393 - val_accuracy: 0.5234 - val_loss: 3.1133\n",
      "Epoch 5/50\n",
      "\u001b[1m140/140\u001b[0m \u001b[32m━━━━━━━━━━━━━━━━━━━━\u001b[0m\u001b[37m\u001b[0m \u001b[1m28s\u001b[0m 197ms/step - accuracy: 0.5061 - loss: 3.1127 - val_accuracy: 0.5187 - val_loss: 3.2607\n",
      "Epoch 6/50\n",
      "\u001b[1m140/140\u001b[0m \u001b[32m━━━━━━━━━━━━━━━━━━━━\u001b[0m\u001b[37m\u001b[0m \u001b[1m27s\u001b[0m 194ms/step - accuracy: 0.5096 - loss: 3.0993 - val_accuracy: 0.5109 - val_loss: 3.0620\n",
      "Epoch 7/50\n",
      "\u001b[1m140/140\u001b[0m \u001b[32m━━━━━━━━━━━━━━━━━━━━\u001b[0m\u001b[37m\u001b[0m \u001b[1m27s\u001b[0m 195ms/step - accuracy: 0.5052 - loss: 3.0944 - val_accuracy: 0.5093 - val_loss: 3.1911\n",
      "Epoch 8/50\n",
      "\u001b[1m140/140\u001b[0m \u001b[32m━━━━━━━━━━━━━━━━━━━━\u001b[0m\u001b[37m\u001b[0m \u001b[1m28s\u001b[0m 199ms/step - accuracy: 0.5243 - loss: 2.9384 - val_accuracy: 0.5249 - val_loss: 3.0603\n",
      "Epoch 9/50\n",
      "\u001b[1m140/140\u001b[0m \u001b[32m━━━━━━━━━━━━━━━━━━━━\u001b[0m\u001b[37m\u001b[0m \u001b[1m28s\u001b[0m 197ms/step - accuracy: 0.5167 - loss: 3.1183 - val_accuracy: 0.5140 - val_loss: 3.2347\n",
      "Epoch 10/50\n",
      "\u001b[1m140/140\u001b[0m \u001b[32m━━━━━━━━━━━━━━━━━━━━\u001b[0m\u001b[37m\u001b[0m \u001b[1m27s\u001b[0m 195ms/step - accuracy: 0.5263 - loss: 2.9390 - val_accuracy: 0.4829 - val_loss: 3.5042\n",
      "Epoch 11/50\n",
      "\u001b[1m140/140\u001b[0m \u001b[32m━━━━━━━━━━━━━━━━━━━━\u001b[0m\u001b[37m\u001b[0m \u001b[1m27s\u001b[0m 194ms/step - accuracy: 0.5153 - loss: 3.0213 - val_accuracy: 0.5078 - val_loss: 3.2496\n",
      "Epoch 12/50\n",
      "\u001b[1m140/140\u001b[0m \u001b[32m━━━━━━━━━━━━━━━━━━━━\u001b[0m\u001b[37m\u001b[0m \u001b[1m27s\u001b[0m 194ms/step - accuracy: 0.5101 - loss: 3.1691 - val_accuracy: 0.5187 - val_loss: 3.2164\n",
      "Epoch 13/50\n",
      "\u001b[1m140/140\u001b[0m \u001b[32m━━━━━━━━━━━━━━━━━━━━\u001b[0m\u001b[37m\u001b[0m \u001b[1m27s\u001b[0m 195ms/step - accuracy: 0.5380 - loss: 2.9606 - val_accuracy: 0.5140 - val_loss: 3.1879\n",
      "Epoch 14/50\n",
      "\u001b[1m140/140\u001b[0m \u001b[32m━━━━━━━━━━━━━━━━━━━━\u001b[0m\u001b[37m\u001b[0m \u001b[1m28s\u001b[0m 198ms/step - accuracy: 0.5140 - loss: 3.0985 - val_accuracy: 0.5171 - val_loss: 3.3051\n",
      "Epoch 15/50\n",
      "\u001b[1m140/140\u001b[0m \u001b[32m━━━━━━━━━━━━━━━━━━━━\u001b[0m\u001b[37m\u001b[0m \u001b[1m28s\u001b[0m 200ms/step - accuracy: 0.5162 - loss: 3.1555 - val_accuracy: 0.4969 - val_loss: 3.2854\n",
      "Epoch 16/50\n",
      "\u001b[1m140/140\u001b[0m \u001b[32m━━━━━━━━━━━━━━━━━━━━\u001b[0m\u001b[37m\u001b[0m \u001b[1m28s\u001b[0m 197ms/step - accuracy: 0.5187 - loss: 3.0615 - val_accuracy: 0.5358 - val_loss: 3.1458\n",
      "Epoch 17/50\n",
      "\u001b[1m140/140\u001b[0m \u001b[32m━━━━━━━━━━━━━━━━━━━━\u001b[0m\u001b[37m\u001b[0m \u001b[1m27s\u001b[0m 195ms/step - accuracy: 0.5247 - loss: 3.1675 - val_accuracy: 0.5280 - val_loss: 3.1904\n",
      "Epoch 18/50\n",
      "\u001b[1m140/140\u001b[0m \u001b[32m━━━━━━━━━━━━━━━━━━━━\u001b[0m\u001b[37m\u001b[0m \u001b[1m27s\u001b[0m 196ms/step - accuracy: 0.5200 - loss: 3.0221 - val_accuracy: 0.4922 - val_loss: 3.1973\n",
      "Epoch 19/50\n",
      "\u001b[1m140/140\u001b[0m \u001b[32m━━━━━━━━━━━━━━━━━━━━\u001b[0m\u001b[37m\u001b[0m \u001b[1m27s\u001b[0m 195ms/step - accuracy: 0.5275 - loss: 3.0915 - val_accuracy: 0.4907 - val_loss: 3.7114\n",
      "Epoch 20/50\n",
      "\u001b[1m140/140\u001b[0m \u001b[32m━━━━━━━━━━━━━━━━━━━━\u001b[0m\u001b[37m\u001b[0m \u001b[1m27s\u001b[0m 196ms/step - accuracy: 0.5295 - loss: 3.0952 - val_accuracy: 0.4486 - val_loss: 3.9272\n",
      "Epoch 21/50\n",
      "\u001b[1m140/140\u001b[0m \u001b[32m━━━━━━━━━━━━━━━━━━━━\u001b[0m\u001b[37m\u001b[0m \u001b[1m27s\u001b[0m 196ms/step - accuracy: 0.5088 - loss: 3.1637 - val_accuracy: 0.5140 - val_loss: 3.1616\n",
      "Epoch 22/50\n",
      "\u001b[1m140/140\u001b[0m \u001b[32m━━━━━━━━━━━━━━━━━━━━\u001b[0m\u001b[37m\u001b[0m \u001b[1m28s\u001b[0m 199ms/step - accuracy: 0.5385 - loss: 2.9106 - val_accuracy: 0.5109 - val_loss: 3.4016\n",
      "Epoch 23/50\n",
      "\u001b[1m140/140\u001b[0m \u001b[32m━━━━━━━━━━━━━━━━━━━━\u001b[0m\u001b[37m\u001b[0m \u001b[1m28s\u001b[0m 198ms/step - accuracy: 0.5135 - loss: 3.2074 - val_accuracy: 0.4751 - val_loss: 3.5248\n",
      "Epoch 24/50\n",
      "\u001b[1m140/140\u001b[0m \u001b[32m━━━━━━━━━━━━━━━━━━━━\u001b[0m\u001b[37m\u001b[0m \u001b[1m28s\u001b[0m 199ms/step - accuracy: 0.5375 - loss: 3.0342 - val_accuracy: 0.5296 - val_loss: 3.5684\n",
      "Epoch 25/50\n",
      "\u001b[1m140/140\u001b[0m \u001b[32m━━━━━━━━━━━━━━━━━━━━\u001b[0m\u001b[37m\u001b[0m \u001b[1m29s\u001b[0m 207ms/step - accuracy: 0.5506 - loss: 3.1120 - val_accuracy: 0.5078 - val_loss: 3.5065\n",
      "Epoch 26/50\n",
      "\u001b[1m140/140\u001b[0m \u001b[32m━━━━━━━━━━━━━━━━━━━━\u001b[0m\u001b[37m\u001b[0m \u001b[1m28s\u001b[0m 202ms/step - accuracy: 0.5327 - loss: 3.0095 - val_accuracy: 0.5062 - val_loss: 3.5042\n",
      "Epoch 27/50\n",
      "\u001b[1m140/140\u001b[0m \u001b[32m━━━━━━━━━━━━━━━━━━━━\u001b[0m\u001b[37m\u001b[0m \u001b[1m27s\u001b[0m 195ms/step - accuracy: 0.5300 - loss: 3.1026 - val_accuracy: 0.5343 - val_loss: 3.2170\n",
      "Epoch 28/50\n",
      "\u001b[1m140/140\u001b[0m \u001b[32m━━━━━━━━━━━━━━━━━━━━\u001b[0m\u001b[37m\u001b[0m \u001b[1m27s\u001b[0m 195ms/step - accuracy: 0.5333 - loss: 3.0278 - val_accuracy: 0.5171 - val_loss: 3.4291\n",
      "Epoch 29/50\n",
      "\u001b[1m140/140\u001b[0m \u001b[32m━━━━━━━━━━━━━━━━━━━━\u001b[0m\u001b[37m\u001b[0m \u001b[1m27s\u001b[0m 195ms/step - accuracy: 0.5358 - loss: 3.1750 - val_accuracy: 0.4766 - val_loss: 3.6876\n",
      "Epoch 30/50\n",
      "\u001b[1m140/140\u001b[0m \u001b[32m━━━━━━━━━━━━━━━━━━━━\u001b[0m\u001b[37m\u001b[0m \u001b[1m27s\u001b[0m 196ms/step - accuracy: 0.5135 - loss: 3.1395 - val_accuracy: 0.5374 - val_loss: 3.3028\n",
      "Epoch 31/50\n",
      "\u001b[1m140/140\u001b[0m \u001b[32m━━━━━━━━━━━━━━━━━━━━\u001b[0m\u001b[37m\u001b[0m \u001b[1m27s\u001b[0m 195ms/step - accuracy: 0.5288 - loss: 3.0749 - val_accuracy: 0.4984 - val_loss: 3.6541\n",
      "Epoch 32/50\n",
      "\u001b[1m140/140\u001b[0m \u001b[32m━━━━━━━━━━━━━━━━━━━━\u001b[0m\u001b[37m\u001b[0m \u001b[1m27s\u001b[0m 196ms/step - accuracy: 0.5336 - loss: 3.0479 - val_accuracy: 0.5452 - val_loss: 3.2617\n",
      "Epoch 33/50\n",
      "\u001b[1m140/140\u001b[0m \u001b[32m━━━━━━━━━━━━━━━━━━━━\u001b[0m\u001b[37m\u001b[0m \u001b[1m27s\u001b[0m 196ms/step - accuracy: 0.5434 - loss: 3.0538 - val_accuracy: 0.4922 - val_loss: 3.5847\n",
      "Epoch 34/50\n",
      "\u001b[1m140/140\u001b[0m \u001b[32m━━━━━━━━━━━━━━━━━━━━\u001b[0m\u001b[37m\u001b[0m \u001b[1m27s\u001b[0m 195ms/step - accuracy: 0.5371 - loss: 3.0880 - val_accuracy: 0.4984 - val_loss: 3.6784\n",
      "Epoch 35/50\n",
      "\u001b[1m140/140\u001b[0m \u001b[32m━━━━━━━━━━━━━━━━━━━━\u001b[0m\u001b[37m\u001b[0m \u001b[1m27s\u001b[0m 196ms/step - accuracy: 0.5252 - loss: 3.2833 - val_accuracy: 0.5031 - val_loss: 3.5373\n",
      "Epoch 36/50\n",
      "\u001b[1m140/140\u001b[0m \u001b[32m━━━━━━━━━━━━━━━━━━━━\u001b[0m\u001b[37m\u001b[0m \u001b[1m27s\u001b[0m 195ms/step - accuracy: 0.5459 - loss: 3.0324 - val_accuracy: 0.5093 - val_loss: 3.7441\n",
      "Epoch 37/50\n",
      "\u001b[1m140/140\u001b[0m \u001b[32m━━━━━━━━━━━━━━━━━━━━\u001b[0m\u001b[37m\u001b[0m \u001b[1m28s\u001b[0m 198ms/step - accuracy: 0.5413 - loss: 3.2079 - val_accuracy: 0.5234 - val_loss: 3.5977\n",
      "Epoch 38/50\n",
      "\u001b[1m140/140\u001b[0m \u001b[32m━━━━━━━━━━━━━━━━━━━━\u001b[0m\u001b[37m\u001b[0m \u001b[1m28s\u001b[0m 198ms/step - accuracy: 0.5318 - loss: 3.2459 - val_accuracy: 0.5171 - val_loss: 3.7035\n",
      "Epoch 39/50\n",
      "\u001b[1m140/140\u001b[0m \u001b[32m━━━━━━━━━━━━━━━━━━━━\u001b[0m\u001b[37m\u001b[0m \u001b[1m28s\u001b[0m 198ms/step - accuracy: 0.5460 - loss: 3.0853 - val_accuracy: 0.4984 - val_loss: 3.9330\n",
      "Epoch 40/50\n",
      "\u001b[1m140/140\u001b[0m \u001b[32m━━━━━━━━━━━━━━━━━━━━\u001b[0m\u001b[37m\u001b[0m \u001b[1m27s\u001b[0m 196ms/step - accuracy: 0.5342 - loss: 3.2251 - val_accuracy: 0.5140 - val_loss: 3.6536\n",
      "Epoch 41/50\n",
      "\u001b[1m140/140\u001b[0m \u001b[32m━━━━━━━━━━━━━━━━━━━━\u001b[0m\u001b[37m\u001b[0m \u001b[1m27s\u001b[0m 195ms/step - accuracy: 0.5396 - loss: 3.0563 - val_accuracy: 0.5280 - val_loss: 3.5226\n",
      "Epoch 42/50\n",
      "\u001b[1m140/140\u001b[0m \u001b[32m━━━━━━━━━━━━━━━━━━━━\u001b[0m\u001b[37m\u001b[0m \u001b[1m27s\u001b[0m 196ms/step - accuracy: 0.5362 - loss: 3.1860 - val_accuracy: 0.5249 - val_loss: 3.5311\n",
      "Epoch 43/50\n",
      "\u001b[1m140/140\u001b[0m \u001b[32m━━━━━━━━━━━━━━━━━━━━\u001b[0m\u001b[37m\u001b[0m \u001b[1m27s\u001b[0m 196ms/step - accuracy: 0.5262 - loss: 3.2309 - val_accuracy: 0.5125 - val_loss: 3.5634\n",
      "Epoch 44/50\n",
      "\u001b[1m140/140\u001b[0m \u001b[32m━━━━━━━━━━━━━━━━━━━━\u001b[0m\u001b[37m\u001b[0m \u001b[1m27s\u001b[0m 196ms/step - accuracy: 0.5436 - loss: 3.0785 - val_accuracy: 0.5016 - val_loss: 3.6721\n",
      "Epoch 45/50\n",
      "\u001b[1m140/140\u001b[0m \u001b[32m━━━━━━━━━━━━━━━━━━━━\u001b[0m\u001b[37m\u001b[0m \u001b[1m27s\u001b[0m 196ms/step - accuracy: 0.5374 - loss: 3.1875 - val_accuracy: 0.5171 - val_loss: 3.6377\n",
      "Epoch 46/50\n",
      "\u001b[1m140/140\u001b[0m \u001b[32m━━━━━━━━━━━━━━━━━━━━\u001b[0m\u001b[37m\u001b[0m \u001b[1m27s\u001b[0m 196ms/step - accuracy: 0.5551 - loss: 3.0471 - val_accuracy: 0.4891 - val_loss: 3.7375\n",
      "Epoch 47/50\n",
      "\u001b[1m140/140\u001b[0m \u001b[32m━━━━━━━━━━━━━━━━━━━━\u001b[0m\u001b[37m\u001b[0m \u001b[1m27s\u001b[0m 196ms/step - accuracy: 0.5186 - loss: 3.2217 - val_accuracy: 0.5234 - val_loss: 3.7911\n",
      "Epoch 48/50\n",
      "\u001b[1m140/140\u001b[0m \u001b[32m━━━━━━━━━━━━━━━━━━━━\u001b[0m\u001b[37m\u001b[0m \u001b[1m27s\u001b[0m 196ms/step - accuracy: 0.5381 - loss: 3.2827 - val_accuracy: 0.4844 - val_loss: 4.5166\n",
      "Epoch 49/50\n",
      "\u001b[1m140/140\u001b[0m \u001b[32m━━━━━━━━━━━━━━━━━━━━\u001b[0m\u001b[37m\u001b[0m \u001b[1m28s\u001b[0m 202ms/step - accuracy: 0.5372 - loss: 3.2335 - val_accuracy: 0.5125 - val_loss: 3.8771\n",
      "Epoch 50/50\n",
      "\u001b[1m140/140\u001b[0m \u001b[32m━━━━━━━━━━━━━━━━━━━━\u001b[0m\u001b[37m\u001b[0m \u001b[1m28s\u001b[0m 199ms/step - accuracy: 0.5473 - loss: 3.1795 - val_accuracy: 0.4798 - val_loss: 3.8057\n"
     ]
    }
   ],
   "source": [
    "# launch training\n",
    "callbacks = [\n",
    "    keras.callbacks.ModelCheckpoint(\n",
    "        filepath=\"models/post-vgg-aug-model.keras\",\n",
    "        save_best_only=True,\n",
    "        monitor=\"val_accuracy\"\n",
    "    )\n",
    "]\n",
    "history_post_vgg_aug = post_vgg_aug.fit(\n",
    "    train_dataloader,\n",
    "    epochs=50,\n",
    "    validation_data=val_dataloader,\n",
    "    callbacks=callbacks\n",
    ")\n",
    "\n",
    "# save for analysis\n",
    "train_history['post-vgg-aug'] = history_post_vgg_aug.history"
   ]
  },
  {
   "cell_type": "markdown",
   "id": "89a67388-0442-4a7f-84bc-fe198b36cae8",
   "metadata": {},
   "source": [
    "### Approach 3 \"VGG-FT-Aug\": Fine-tune last few layers of VGG + train classification head"
   ]
  },
  {
   "cell_type": "code",
   "execution_count": 20,
   "id": "cdd6805f-f784-45c9-a6a8-95fe19a10783",
   "metadata": {
    "scrolled": true
   },
   "outputs": [],
   "source": [
    "train_config = {\n",
    "    'num_unfrozen_layers': 6,\n",
    "    'dropout_ratio': 0.65,\n",
    "    'lr': 1e-5,\n",
    "    'weight_decay': None,\n",
    "    'rescaling': True,\n",
    "    'epochs': 100\n",
    "}\n",
    "\n",
    "vgg_base = keras.applications.vgg16.VGG16(\n",
    "    weights=\"imagenet\",\n",
    "    include_top=False\n",
    ")\n",
    "\n",
    "# turn on training for last few layers\n",
    "vgg_base.trainable = True\n",
    "for layer in vgg_base.layers[:-train_config['num_unfrozen_layers']]:\n",
    "    # make all non-trainable, except last few\n",
    "    layer.trainable = False\n",
    "\n",
    "# set up augmentation pipeline\n",
    "data_augmentation = keras.Sequential(\n",
    "    [\n",
    "        keras.layers.RandomFlip(\"horizontal\"),\n",
    "        keras.layers.RandomRotation(0.1),\n",
    "    ]\n",
    ")\n",
    "\n",
    "# build model: augmentation -> VGG -> dense classifier\n",
    "inputs = keras.Input(shape=(CFG.input_shape, CFG.input_shape, 3))\n",
    "x = data_augmentation(inputs)\n",
    "x = keras.applications.vgg16.preprocess_input(x)\n",
    "if train_config['rescaling']:\n",
    "    x = keras.layers.Rescaling(1./255)(x)\n",
    "x = vgg_base(x)\n",
    "x = keras.layers.Flatten()(x)\n",
    "x = keras.layers.Dense(256, kernel_initializer=keras.initializers.GlorotNormal(seed=42))(x)\n",
    "x = keras.layers.Dropout(train_config['dropout_ratio'])(x)\n",
    "outputs = keras.layers.Dense(CFG.label_count, activation=\"softmax\")(x)"
   ]
  },
  {
   "cell_type": "code",
   "execution_count": 22,
   "id": "3fe2c384-3a4b-4c7d-8c00-da0002945234",
   "metadata": {},
   "outputs": [
    {
     "name": "stderr",
     "output_type": "stream",
     "text": [
      "\u001b[34m\u001b[1mwandb\u001b[0m: Currently logged in as: \u001b[33mmuhammadali\u001b[0m. Use \u001b[1m`wandb login --relogin`\u001b[0m to force relogin\n"
     ]
    },
    {
     "data": {
      "text/html": [
       "Tracking run with wandb version 0.17.4"
      ],
      "text/plain": [
       "<IPython.core.display.HTML object>"
      ]
     },
     "metadata": {},
     "output_type": "display_data"
    },
    {
     "data": {
      "text/html": [
       "Run data is saved locally in <code>/Users/muhammadali/Documents/2024-job-search/teradyne/wandb/run-20240712_222931-sfcw1phr</code>"
      ],
      "text/plain": [
       "<IPython.core.display.HTML object>"
      ]
     },
     "metadata": {},
     "output_type": "display_data"
    },
    {
     "data": {
      "text/html": [
       "Syncing run <strong><a href='https://wandb.ai/muhammadali/ic-chip-net/runs/sfcw1phr' target=\"_blank\">generous-darkness-11</a></strong> to <a href='https://wandb.ai/muhammadali/ic-chip-net' target=\"_blank\">Weights & Biases</a> (<a href='https://wandb.me/run' target=\"_blank\">docs</a>)<br/>"
      ],
      "text/plain": [
       "<IPython.core.display.HTML object>"
      ]
     },
     "metadata": {},
     "output_type": "display_data"
    },
    {
     "data": {
      "text/html": [
       " View project at <a href='https://wandb.ai/muhammadali/ic-chip-net' target=\"_blank\">https://wandb.ai/muhammadali/ic-chip-net</a>"
      ],
      "text/plain": [
       "<IPython.core.display.HTML object>"
      ]
     },
     "metadata": {},
     "output_type": "display_data"
    },
    {
     "data": {
      "text/html": [
       " View run at <a href='https://wandb.ai/muhammadali/ic-chip-net/runs/sfcw1phr' target=\"_blank\">https://wandb.ai/muhammadali/ic-chip-net/runs/sfcw1phr</a>"
      ],
      "text/plain": [
       "<IPython.core.display.HTML object>"
      ]
     },
     "metadata": {},
     "output_type": "display_data"
    },
    {
     "name": "stdout",
     "output_type": "stream",
     "text": [
      "Epoch 1/100\n",
      "\u001b[1m140/140\u001b[0m \u001b[32m━━━━━━━━━━━━━━━━━━━━\u001b[0m\u001b[37m\u001b[0m \u001b[1m0s\u001b[0m 285ms/step - accuracy: 0.0736 - loss: 3.8735"
     ]
    },
    {
     "name": "stderr",
     "output_type": "stream",
     "text": [
      "\u001b[34m\u001b[1mwandb\u001b[0m: \u001b[32m\u001b[41mERROR\u001b[0m Unable to log learning rate.\n"
     ]
    },
    {
     "name": "stdout",
     "output_type": "stream",
     "text": [
      "\u001b[1m140/140\u001b[0m \u001b[32m━━━━━━━━━━━━━━━━━━━━\u001b[0m\u001b[37m\u001b[0m \u001b[1m44s\u001b[0m 313ms/step - accuracy: 0.0738 - loss: 3.8710 - val_accuracy: 0.2461 - val_loss: 2.6546\n",
      "Epoch 2/100\n",
      "\u001b[1m140/140\u001b[0m \u001b[32m━━━━━━━━━━━━━━━━━━━━\u001b[0m\u001b[37m\u001b[0m \u001b[1m45s\u001b[0m 323ms/step - accuracy: 0.1873 - loss: 2.8831 - val_accuracy: 0.3505 - val_loss: 2.3408\n",
      "Epoch 3/100\n",
      "\u001b[1m140/140\u001b[0m \u001b[32m━━━━━━━━━━━━━━━━━━━━\u001b[0m\u001b[37m\u001b[0m \u001b[1m45s\u001b[0m 322ms/step - accuracy: 0.2919 - loss: 2.4839 - val_accuracy: 0.3925 - val_loss: 2.1777\n",
      "Epoch 4/100\n",
      "\u001b[1m140/140\u001b[0m \u001b[32m━━━━━━━━━━━━━━━━━━━━\u001b[0m\u001b[37m\u001b[0m \u001b[1m45s\u001b[0m 319ms/step - accuracy: 0.3367 - loss: 2.3219 - val_accuracy: 0.4174 - val_loss: 2.0031\n",
      "Epoch 5/100\n",
      "\u001b[1m140/140\u001b[0m \u001b[32m━━━━━━━━━━━━━━━━━━━━\u001b[0m\u001b[37m\u001b[0m \u001b[1m45s\u001b[0m 325ms/step - accuracy: 0.3902 - loss: 2.1590 - val_accuracy: 0.4299 - val_loss: 1.9344\n",
      "Epoch 6/100\n",
      "\u001b[1m140/140\u001b[0m \u001b[32m━━━━━━━━━━━━━━━━━━━━\u001b[0m\u001b[37m\u001b[0m \u001b[1m44s\u001b[0m 312ms/step - accuracy: 0.4293 - loss: 2.0240 - val_accuracy: 0.4704 - val_loss: 1.8768\n",
      "Epoch 7/100\n",
      "\u001b[1m140/140\u001b[0m \u001b[32m━━━━━━━━━━━━━━━━━━━━\u001b[0m\u001b[37m\u001b[0m \u001b[1m44s\u001b[0m 312ms/step - accuracy: 0.4332 - loss: 1.9409 - val_accuracy: 0.4860 - val_loss: 1.7512\n",
      "Epoch 8/100\n",
      "\u001b[1m140/140\u001b[0m \u001b[32m━━━━━━━━━━━━━━━━━━━━\u001b[0m\u001b[37m\u001b[0m \u001b[1m44s\u001b[0m 312ms/step - accuracy: 0.4822 - loss: 1.8398 - val_accuracy: 0.5218 - val_loss: 1.6931\n",
      "Epoch 9/100\n",
      "\u001b[1m140/140\u001b[0m \u001b[32m━━━━━━━━━━━━━━━━━━━━\u001b[0m\u001b[37m\u001b[0m \u001b[1m44s\u001b[0m 314ms/step - accuracy: 0.4934 - loss: 1.7661 - val_accuracy: 0.5436 - val_loss: 1.6592\n",
      "Epoch 10/100\n",
      "\u001b[1m140/140\u001b[0m \u001b[32m━━━━━━━━━━━━━━━━━━━━\u001b[0m\u001b[37m\u001b[0m \u001b[1m44s\u001b[0m 312ms/step - accuracy: 0.5160 - loss: 1.7346 - val_accuracy: 0.5358 - val_loss: 1.6231\n",
      "Epoch 11/100\n",
      "\u001b[1m140/140\u001b[0m \u001b[32m━━━━━━━━━━━━━━━━━━━━\u001b[0m\u001b[37m\u001b[0m \u001b[1m44s\u001b[0m 315ms/step - accuracy: 0.5266 - loss: 1.6598 - val_accuracy: 0.5670 - val_loss: 1.5637\n",
      "Epoch 12/100\n",
      "\u001b[1m140/140\u001b[0m \u001b[32m━━━━━━━━━━━━━━━━━━━━\u001b[0m\u001b[37m\u001b[0m \u001b[1m45s\u001b[0m 320ms/step - accuracy: 0.5466 - loss: 1.5935 - val_accuracy: 0.5810 - val_loss: 1.5172\n",
      "Epoch 13/100\n",
      "\u001b[1m140/140\u001b[0m \u001b[32m━━━━━━━━━━━━━━━━━━━━\u001b[0m\u001b[37m\u001b[0m \u001b[1m45s\u001b[0m 322ms/step - accuracy: 0.5658 - loss: 1.5281 - val_accuracy: 0.5841 - val_loss: 1.4405\n",
      "Epoch 14/100\n",
      "\u001b[1m140/140\u001b[0m \u001b[32m━━━━━━━━━━━━━━━━━━━━\u001b[0m\u001b[37m\u001b[0m \u001b[1m45s\u001b[0m 321ms/step - accuracy: 0.5799 - loss: 1.4461 - val_accuracy: 0.5966 - val_loss: 1.4051\n",
      "Epoch 15/100\n",
      "\u001b[1m140/140\u001b[0m \u001b[32m━━━━━━━━━━━━━━━━━━━━\u001b[0m\u001b[37m\u001b[0m \u001b[1m45s\u001b[0m 320ms/step - accuracy: 0.5886 - loss: 1.4337 - val_accuracy: 0.5935 - val_loss: 1.4089\n",
      "Epoch 16/100\n",
      "\u001b[1m140/140\u001b[0m \u001b[32m━━━━━━━━━━━━━━━━━━━━\u001b[0m\u001b[37m\u001b[0m \u001b[1m45s\u001b[0m 322ms/step - accuracy: 0.6105 - loss: 1.3718 - val_accuracy: 0.6075 - val_loss: 1.3539\n",
      "Epoch 17/100\n",
      "\u001b[1m140/140\u001b[0m \u001b[32m━━━━━━━━━━━━━━━━━━━━\u001b[0m\u001b[37m\u001b[0m \u001b[1m46s\u001b[0m 327ms/step - accuracy: 0.6162 - loss: 1.3709 - val_accuracy: 0.6231 - val_loss: 1.3285\n",
      "Epoch 18/100\n",
      "\u001b[1m140/140\u001b[0m \u001b[32m━━━━━━━━━━━━━━━━━━━━\u001b[0m\u001b[37m\u001b[0m \u001b[1m46s\u001b[0m 326ms/step - accuracy: 0.6070 - loss: 1.3379 - val_accuracy: 0.6012 - val_loss: 1.3692\n",
      "Epoch 19/100\n",
      "\u001b[1m140/140\u001b[0m \u001b[32m━━━━━━━━━━━━━━━━━━━━\u001b[0m\u001b[37m\u001b[0m \u001b[1m46s\u001b[0m 326ms/step - accuracy: 0.6254 - loss: 1.2765 - val_accuracy: 0.6293 - val_loss: 1.2948\n",
      "Epoch 20/100\n",
      "\u001b[1m140/140\u001b[0m \u001b[32m━━━━━━━━━━━━━━━━━━━━\u001b[0m\u001b[37m\u001b[0m \u001b[1m46s\u001b[0m 326ms/step - accuracy: 0.6332 - loss: 1.2447 - val_accuracy: 0.6262 - val_loss: 1.2826\n",
      "Epoch 21/100\n",
      "\u001b[1m140/140\u001b[0m \u001b[32m━━━━━━━━━━━━━━━━━━━━\u001b[0m\u001b[37m\u001b[0m \u001b[1m46s\u001b[0m 327ms/step - accuracy: 0.6403 - loss: 1.2461 - val_accuracy: 0.6464 - val_loss: 1.2442\n",
      "Epoch 22/100\n",
      "\u001b[1m140/140\u001b[0m \u001b[32m━━━━━━━━━━━━━━━━━━━━\u001b[0m\u001b[37m\u001b[0m \u001b[1m46s\u001b[0m 328ms/step - accuracy: 0.6434 - loss: 1.2142 - val_accuracy: 0.6495 - val_loss: 1.2224\n",
      "Epoch 23/100\n",
      "\u001b[1m140/140\u001b[0m \u001b[32m━━━━━━━━━━━━━━━━━━━━\u001b[0m\u001b[37m\u001b[0m \u001b[1m46s\u001b[0m 327ms/step - accuracy: 0.6628 - loss: 1.1607 - val_accuracy: 0.6402 - val_loss: 1.2263\n",
      "Epoch 24/100\n",
      "\u001b[1m140/140\u001b[0m \u001b[32m━━━━━━━━━━━━━━━━━━━━\u001b[0m\u001b[37m\u001b[0m \u001b[1m46s\u001b[0m 331ms/step - accuracy: 0.6776 - loss: 1.0956 - val_accuracy: 0.6511 - val_loss: 1.2028\n",
      "Epoch 25/100\n",
      "\u001b[1m140/140\u001b[0m \u001b[32m━━━━━━━━━━━━━━━━━━━━\u001b[0m\u001b[37m\u001b[0m \u001b[1m46s\u001b[0m 329ms/step - accuracy: 0.6816 - loss: 1.1085 - val_accuracy: 0.6729 - val_loss: 1.1717\n",
      "Epoch 26/100\n",
      "\u001b[1m140/140\u001b[0m \u001b[32m━━━━━━━━━━━━━━━━━━━━\u001b[0m\u001b[37m\u001b[0m \u001b[1m46s\u001b[0m 328ms/step - accuracy: 0.6924 - loss: 1.0725 - val_accuracy: 0.6636 - val_loss: 1.1788\n",
      "Epoch 27/100\n",
      "\u001b[1m140/140\u001b[0m \u001b[32m━━━━━━━━━━━━━━━━━━━━\u001b[0m\u001b[37m\u001b[0m \u001b[1m46s\u001b[0m 329ms/step - accuracy: 0.7026 - loss: 1.0131 - val_accuracy: 0.6745 - val_loss: 1.1460\n",
      "Epoch 28/100\n",
      "\u001b[1m140/140\u001b[0m \u001b[32m━━━━━━━━━━━━━━━━━━━━\u001b[0m\u001b[37m\u001b[0m \u001b[1m46s\u001b[0m 328ms/step - accuracy: 0.7043 - loss: 1.0088 - val_accuracy: 0.6667 - val_loss: 1.1439\n",
      "Epoch 29/100\n",
      "\u001b[1m140/140\u001b[0m \u001b[32m━━━━━━━━━━━━━━━━━━━━\u001b[0m\u001b[37m\u001b[0m \u001b[1m46s\u001b[0m 331ms/step - accuracy: 0.7225 - loss: 0.9589 - val_accuracy: 0.6791 - val_loss: 1.1356\n",
      "Epoch 30/100\n",
      "\u001b[1m140/140\u001b[0m \u001b[32m━━━━━━━━━━━━━━━━━━━━\u001b[0m\u001b[37m\u001b[0m \u001b[1m46s\u001b[0m 328ms/step - accuracy: 0.7097 - loss: 1.0049 - val_accuracy: 0.6822 - val_loss: 1.1041\n",
      "Epoch 31/100\n",
      "\u001b[1m140/140\u001b[0m \u001b[32m━━━━━━━━━━━━━━━━━━━━\u001b[0m\u001b[37m\u001b[0m \u001b[1m46s\u001b[0m 329ms/step - accuracy: 0.7199 - loss: 0.9558 - val_accuracy: 0.6604 - val_loss: 1.1232\n",
      "Epoch 32/100\n",
      "\u001b[1m140/140\u001b[0m \u001b[32m━━━━━━━━━━━━━━━━━━━━\u001b[0m\u001b[37m\u001b[0m \u001b[1m48s\u001b[0m 343ms/step - accuracy: 0.7277 - loss: 0.9336 - val_accuracy: 0.6822 - val_loss: 1.1171\n",
      "Epoch 33/100\n",
      "\u001b[1m140/140\u001b[0m \u001b[32m━━━━━━━━━━━━━━━━━━━━\u001b[0m\u001b[37m\u001b[0m \u001b[1m49s\u001b[0m 348ms/step - accuracy: 0.7517 - loss: 0.9037 - val_accuracy: 0.6900 - val_loss: 1.0955\n",
      "Epoch 34/100\n",
      "\u001b[1m140/140\u001b[0m \u001b[32m━━━━━━━━━━━━━━━━━━━━\u001b[0m\u001b[37m\u001b[0m \u001b[1m48s\u001b[0m 340ms/step - accuracy: 0.7352 - loss: 0.8858 - val_accuracy: 0.6745 - val_loss: 1.1268\n",
      "Epoch 35/100\n",
      "\u001b[1m140/140\u001b[0m \u001b[32m━━━━━━━━━━━━━━━━━━━━\u001b[0m\u001b[37m\u001b[0m \u001b[1m48s\u001b[0m 343ms/step - accuracy: 0.7392 - loss: 0.8687 - val_accuracy: 0.6900 - val_loss: 1.0844\n",
      "Epoch 36/100\n",
      "\u001b[1m140/140\u001b[0m \u001b[32m━━━━━━━━━━━━━━━━━━━━\u001b[0m\u001b[37m\u001b[0m \u001b[1m48s\u001b[0m 342ms/step - accuracy: 0.7480 - loss: 0.8431 - val_accuracy: 0.6978 - val_loss: 1.0558\n",
      "Epoch 37/100\n",
      "\u001b[1m140/140\u001b[0m \u001b[32m━━━━━━━━━━━━━━━━━━━━\u001b[0m\u001b[37m\u001b[0m \u001b[1m48s\u001b[0m 341ms/step - accuracy: 0.7579 - loss: 0.8253 - val_accuracy: 0.7134 - val_loss: 1.0533\n",
      "Epoch 38/100\n",
      "\u001b[1m140/140\u001b[0m \u001b[32m━━━━━━━━━━━━━━━━━━━━\u001b[0m\u001b[37m\u001b[0m \u001b[1m48s\u001b[0m 342ms/step - accuracy: 0.7748 - loss: 0.7730 - val_accuracy: 0.7056 - val_loss: 1.0528\n",
      "Epoch 39/100\n",
      "\u001b[1m140/140\u001b[0m \u001b[32m━━━━━━━━━━━━━━━━━━━━\u001b[0m\u001b[37m\u001b[0m \u001b[1m48s\u001b[0m 346ms/step - accuracy: 0.7705 - loss: 0.7656 - val_accuracy: 0.7009 - val_loss: 1.0662\n",
      "Epoch 40/100\n",
      "\u001b[1m140/140\u001b[0m \u001b[32m━━━━━━━━━━━━━━━━━━━━\u001b[0m\u001b[37m\u001b[0m \u001b[1m48s\u001b[0m 345ms/step - accuracy: 0.7778 - loss: 0.7547 - val_accuracy: 0.6947 - val_loss: 1.1058\n",
      "Epoch 41/100\n",
      "\u001b[1m140/140\u001b[0m \u001b[32m━━━━━━━━━━━━━━━━━━━━\u001b[0m\u001b[37m\u001b[0m \u001b[1m48s\u001b[0m 341ms/step - accuracy: 0.7788 - loss: 0.7539 - val_accuracy: 0.7150 - val_loss: 1.0319\n",
      "Epoch 42/100\n",
      "\u001b[1m140/140\u001b[0m \u001b[32m━━━━━━━━━━━━━━━━━━━━\u001b[0m\u001b[37m\u001b[0m \u001b[1m48s\u001b[0m 340ms/step - accuracy: 0.7960 - loss: 0.6862 - val_accuracy: 0.7290 - val_loss: 1.0147\n",
      "Epoch 43/100\n",
      "\u001b[1m140/140\u001b[0m \u001b[32m━━━━━━━━━━━━━━━━━━━━\u001b[0m\u001b[37m\u001b[0m \u001b[1m48s\u001b[0m 341ms/step - accuracy: 0.7885 - loss: 0.7302 - val_accuracy: 0.7150 - val_loss: 1.0339\n",
      "Epoch 44/100\n",
      "\u001b[1m140/140\u001b[0m \u001b[32m━━━━━━━━━━━━━━━━━━━━\u001b[0m\u001b[37m\u001b[0m \u001b[1m48s\u001b[0m 343ms/step - accuracy: 0.7890 - loss: 0.7254 - val_accuracy: 0.7290 - val_loss: 1.0062\n",
      "Epoch 45/100\n",
      "\u001b[1m140/140\u001b[0m \u001b[32m━━━━━━━━━━━━━━━━━━━━\u001b[0m\u001b[37m\u001b[0m \u001b[1m48s\u001b[0m 344ms/step - accuracy: 0.7900 - loss: 0.7187 - val_accuracy: 0.7181 - val_loss: 1.0273\n",
      "Epoch 46/100\n",
      "\u001b[1m140/140\u001b[0m \u001b[32m━━━━━━━━━━━━━━━━━━━━\u001b[0m\u001b[37m\u001b[0m \u001b[1m48s\u001b[0m 344ms/step - accuracy: 0.8155 - loss: 0.6315 - val_accuracy: 0.7134 - val_loss: 1.0463\n",
      "Epoch 47/100\n",
      "\u001b[1m140/140\u001b[0m \u001b[32m━━━━━━━━━━━━━━━━━━━━\u001b[0m\u001b[37m\u001b[0m \u001b[1m49s\u001b[0m 347ms/step - accuracy: 0.8006 - loss: 0.6745 - val_accuracy: 0.7134 - val_loss: 1.0006\n",
      "Epoch 48/100\n",
      "\u001b[1m140/140\u001b[0m \u001b[32m━━━━━━━━━━━━━━━━━━━━\u001b[0m\u001b[37m\u001b[0m \u001b[1m47s\u001b[0m 336ms/step - accuracy: 0.8127 - loss: 0.6229 - val_accuracy: 0.7025 - val_loss: 1.0791\n",
      "Epoch 49/100\n",
      "\u001b[1m140/140\u001b[0m \u001b[32m━━━━━━━━━━━━━━━━━━━━\u001b[0m\u001b[37m\u001b[0m \u001b[1m47s\u001b[0m 334ms/step - accuracy: 0.8142 - loss: 0.6015 - val_accuracy: 0.7336 - val_loss: 0.9908\n",
      "Epoch 50/100\n",
      "\u001b[1m140/140\u001b[0m \u001b[32m━━━━━━━━━━━━━━━━━━━━\u001b[0m\u001b[37m\u001b[0m \u001b[1m47s\u001b[0m 335ms/step - accuracy: 0.8346 - loss: 0.5673 - val_accuracy: 0.7150 - val_loss: 1.0552\n",
      "Epoch 51/100\n",
      "\u001b[1m140/140\u001b[0m \u001b[32m━━━━━━━━━━━━━━━━━━━━\u001b[0m\u001b[37m\u001b[0m \u001b[1m46s\u001b[0m 332ms/step - accuracy: 0.8305 - loss: 0.5758 - val_accuracy: 0.7103 - val_loss: 1.0299\n",
      "Epoch 52/100\n",
      "\u001b[1m140/140\u001b[0m \u001b[32m━━━━━━━━━━━━━━━━━━━━\u001b[0m\u001b[37m\u001b[0m \u001b[1m46s\u001b[0m 332ms/step - accuracy: 0.8322 - loss: 0.5686 - val_accuracy: 0.7290 - val_loss: 0.9913\n",
      "Epoch 53/100\n",
      "\u001b[1m140/140\u001b[0m \u001b[32m━━━━━━━━━━━━━━━━━━━━\u001b[0m\u001b[37m\u001b[0m \u001b[1m46s\u001b[0m 332ms/step - accuracy: 0.8295 - loss: 0.5828 - val_accuracy: 0.7118 - val_loss: 1.0325\n",
      "Epoch 54/100\n",
      "\u001b[1m140/140\u001b[0m \u001b[32m━━━━━━━━━━━━━━━━━━━━\u001b[0m\u001b[37m\u001b[0m \u001b[1m46s\u001b[0m 332ms/step - accuracy: 0.8379 - loss: 0.5541 - val_accuracy: 0.7259 - val_loss: 1.0483\n",
      "Epoch 55/100\n",
      "\u001b[1m140/140\u001b[0m \u001b[32m━━━━━━━━━━━━━━━━━━━━\u001b[0m\u001b[37m\u001b[0m \u001b[1m47s\u001b[0m 333ms/step - accuracy: 0.8409 - loss: 0.5233 - val_accuracy: 0.7165 - val_loss: 1.0200\n",
      "Epoch 56/100\n",
      "\u001b[1m140/140\u001b[0m \u001b[32m━━━━━━━━━━━━━━━━━━━━\u001b[0m\u001b[37m\u001b[0m \u001b[1m46s\u001b[0m 331ms/step - accuracy: 0.8487 - loss: 0.5015 - val_accuracy: 0.7227 - val_loss: 1.0122\n",
      "Epoch 57/100\n",
      "\u001b[1m140/140\u001b[0m \u001b[32m━━━━━━━━━━━━━━━━━━━━\u001b[0m\u001b[37m\u001b[0m \u001b[1m46s\u001b[0m 326ms/step - accuracy: 0.8530 - loss: 0.4869 - val_accuracy: 0.7336 - val_loss: 0.9831\n",
      "Epoch 58/100\n",
      "\u001b[1m140/140\u001b[0m \u001b[32m━━━━━━━━━━━━━━━━━━━━\u001b[0m\u001b[37m\u001b[0m \u001b[1m46s\u001b[0m 327ms/step - accuracy: 0.8529 - loss: 0.5151 - val_accuracy: 0.7274 - val_loss: 1.0178\n",
      "Epoch 59/100\n",
      "\u001b[1m140/140\u001b[0m \u001b[32m━━━━━━━━━━━━━━━━━━━━\u001b[0m\u001b[37m\u001b[0m \u001b[1m46s\u001b[0m 330ms/step - accuracy: 0.8543 - loss: 0.4764 - val_accuracy: 0.7321 - val_loss: 1.0415\n",
      "Epoch 60/100\n",
      "\u001b[1m140/140\u001b[0m \u001b[32m━━━━━━━━━━━━━━━━━━━━\u001b[0m\u001b[37m\u001b[0m \u001b[1m46s\u001b[0m 332ms/step - accuracy: 0.8590 - loss: 0.4601 - val_accuracy: 0.7274 - val_loss: 1.0339\n",
      "Epoch 61/100\n",
      "\u001b[1m140/140\u001b[0m \u001b[32m━━━━━━━━━━━━━━━━━━━━\u001b[0m\u001b[37m\u001b[0m \u001b[1m47s\u001b[0m 333ms/step - accuracy: 0.8601 - loss: 0.4643 - val_accuracy: 0.7414 - val_loss: 1.0031\n",
      "Epoch 62/100\n",
      "\u001b[1m140/140\u001b[0m \u001b[32m━━━━━━━━━━━━━━━━━━━━\u001b[0m\u001b[37m\u001b[0m \u001b[1m47s\u001b[0m 333ms/step - accuracy: 0.8732 - loss: 0.4530 - val_accuracy: 0.7305 - val_loss: 1.0519\n",
      "Epoch 63/100\n",
      "\u001b[1m140/140\u001b[0m \u001b[32m━━━━━━━━━━━━━━━━━━━━\u001b[0m\u001b[37m\u001b[0m \u001b[1m47s\u001b[0m 335ms/step - accuracy: 0.8672 - loss: 0.4448 - val_accuracy: 0.7181 - val_loss: 1.0179\n",
      "Epoch 64/100\n",
      "\u001b[1m140/140\u001b[0m \u001b[32m━━━━━━━━━━━━━━━━━━━━\u001b[0m\u001b[37m\u001b[0m \u001b[1m47s\u001b[0m 332ms/step - accuracy: 0.8665 - loss: 0.4275 - val_accuracy: 0.7414 - val_loss: 1.0184\n",
      "Epoch 65/100\n",
      "\u001b[1m140/140\u001b[0m \u001b[32m━━━━━━━━━━━━━━━━━━━━\u001b[0m\u001b[37m\u001b[0m \u001b[1m47s\u001b[0m 336ms/step - accuracy: 0.8698 - loss: 0.4167 - val_accuracy: 0.7290 - val_loss: 1.0371\n",
      "Epoch 66/100\n",
      "\u001b[1m140/140\u001b[0m \u001b[32m━━━━━━━━━━━━━━━━━━━━\u001b[0m\u001b[37m\u001b[0m \u001b[1m48s\u001b[0m 341ms/step - accuracy: 0.8778 - loss: 0.4302 - val_accuracy: 0.7352 - val_loss: 1.0188\n",
      "Epoch 67/100\n",
      "\u001b[1m140/140\u001b[0m \u001b[32m━━━━━━━━━━━━━━━━━━━━\u001b[0m\u001b[37m\u001b[0m \u001b[1m48s\u001b[0m 341ms/step - accuracy: 0.8735 - loss: 0.4194 - val_accuracy: 0.7259 - val_loss: 1.0753\n",
      "Epoch 68/100\n",
      "\u001b[1m140/140\u001b[0m \u001b[32m━━━━━━━━━━━━━━━━━━━━\u001b[0m\u001b[37m\u001b[0m \u001b[1m47s\u001b[0m 337ms/step - accuracy: 0.8777 - loss: 0.3927 - val_accuracy: 0.7414 - val_loss: 1.0022\n",
      "Epoch 69/100\n",
      "\u001b[1m140/140\u001b[0m \u001b[32m━━━━━━━━━━━━━━━━━━━━\u001b[0m\u001b[37m\u001b[0m \u001b[1m47s\u001b[0m 339ms/step - accuracy: 0.8831 - loss: 0.3892 - val_accuracy: 0.7352 - val_loss: 1.0580\n",
      "Epoch 70/100\n",
      "\u001b[1m140/140\u001b[0m \u001b[32m━━━━━━━━━━━━━━━━━━━━\u001b[0m\u001b[37m\u001b[0m \u001b[1m47s\u001b[0m 338ms/step - accuracy: 0.8947 - loss: 0.3632 - val_accuracy: 0.7461 - val_loss: 0.9688\n",
      "Epoch 71/100\n",
      "\u001b[1m140/140\u001b[0m \u001b[32m━━━━━━━━━━━━━━━━━━━━\u001b[0m\u001b[37m\u001b[0m \u001b[1m48s\u001b[0m 345ms/step - accuracy: 0.8946 - loss: 0.3561 - val_accuracy: 0.7305 - val_loss: 1.0505\n",
      "Epoch 72/100\n",
      "\u001b[1m140/140\u001b[0m \u001b[32m━━━━━━━━━━━━━━━━━━━━\u001b[0m\u001b[37m\u001b[0m \u001b[1m47s\u001b[0m 339ms/step - accuracy: 0.8981 - loss: 0.3419 - val_accuracy: 0.7508 - val_loss: 1.0079\n",
      "Epoch 73/100\n",
      "\u001b[1m140/140\u001b[0m \u001b[32m━━━━━━━━━━━━━━━━━━━━\u001b[0m\u001b[37m\u001b[0m \u001b[1m47s\u001b[0m 336ms/step - accuracy: 0.8907 - loss: 0.3634 - val_accuracy: 0.7352 - val_loss: 1.1220\n",
      "Epoch 74/100\n",
      "\u001b[1m140/140\u001b[0m \u001b[32m━━━━━━━━━━━━━━━━━━━━\u001b[0m\u001b[37m\u001b[0m \u001b[1m46s\u001b[0m 330ms/step - accuracy: 0.8962 - loss: 0.3399 - val_accuracy: 0.7445 - val_loss: 1.0683\n",
      "Epoch 75/100\n",
      "\u001b[1m140/140\u001b[0m \u001b[32m━━━━━━━━━━━━━━━━━━━━\u001b[0m\u001b[37m\u001b[0m \u001b[1m47s\u001b[0m 332ms/step - accuracy: 0.8973 - loss: 0.3296 - val_accuracy: 0.7305 - val_loss: 1.1053\n",
      "Epoch 76/100\n",
      "\u001b[1m140/140\u001b[0m \u001b[32m━━━━━━━━━━━━━━━━━━━━\u001b[0m\u001b[37m\u001b[0m \u001b[1m47s\u001b[0m 338ms/step - accuracy: 0.9021 - loss: 0.3073 - val_accuracy: 0.7539 - val_loss: 1.0483\n",
      "Epoch 77/100\n",
      "\u001b[1m140/140\u001b[0m \u001b[32m━━━━━━━━━━━━━━━━━━━━\u001b[0m\u001b[37m\u001b[0m \u001b[1m47s\u001b[0m 336ms/step - accuracy: 0.9189 - loss: 0.2902 - val_accuracy: 0.7414 - val_loss: 1.0736\n",
      "Epoch 78/100\n",
      "\u001b[1m140/140\u001b[0m \u001b[32m━━━━━━━━━━━━━━━━━━━━\u001b[0m\u001b[37m\u001b[0m \u001b[1m47s\u001b[0m 334ms/step - accuracy: 0.9082 - loss: 0.3002 - val_accuracy: 0.7399 - val_loss: 1.1294\n",
      "Epoch 79/100\n",
      "\u001b[1m140/140\u001b[0m \u001b[32m━━━━━━━━━━━━━━━━━━━━\u001b[0m\u001b[37m\u001b[0m \u001b[1m47s\u001b[0m 334ms/step - accuracy: 0.9022 - loss: 0.3156 - val_accuracy: 0.7352 - val_loss: 1.0569\n",
      "Epoch 80/100\n",
      "\u001b[1m140/140\u001b[0m \u001b[32m━━━━━━━━━━━━━━━━━━━━\u001b[0m\u001b[37m\u001b[0m \u001b[1m46s\u001b[0m 330ms/step - accuracy: 0.9120 - loss: 0.2854 - val_accuracy: 0.7461 - val_loss: 1.1067\n",
      "Epoch 81/100\n",
      "\u001b[1m140/140\u001b[0m \u001b[32m━━━━━━━━━━━━━━━━━━━━\u001b[0m\u001b[37m\u001b[0m \u001b[1m47s\u001b[0m 333ms/step - accuracy: 0.9062 - loss: 0.2854 - val_accuracy: 0.7523 - val_loss: 1.0376\n",
      "Epoch 82/100\n",
      "\u001b[1m140/140\u001b[0m \u001b[32m━━━━━━━━━━━━━━━━━━━━\u001b[0m\u001b[37m\u001b[0m \u001b[1m47s\u001b[0m 339ms/step - accuracy: 0.9132 - loss: 0.2812 - val_accuracy: 0.7555 - val_loss: 1.0562\n",
      "Epoch 83/100\n",
      "\u001b[1m140/140\u001b[0m \u001b[32m━━━━━━━━━━━━━━━━━━━━\u001b[0m\u001b[37m\u001b[0m \u001b[1m46s\u001b[0m 327ms/step - accuracy: 0.9132 - loss: 0.2694 - val_accuracy: 0.7274 - val_loss: 1.1544\n",
      "Epoch 84/100\n",
      "\u001b[1m140/140\u001b[0m \u001b[32m━━━━━━━━━━━━━━━━━━━━\u001b[0m\u001b[37m\u001b[0m \u001b[1m45s\u001b[0m 322ms/step - accuracy: 0.9200 - loss: 0.2531 - val_accuracy: 0.7539 - val_loss: 1.0234\n",
      "Epoch 85/100\n",
      "\u001b[1m140/140\u001b[0m \u001b[32m━━━━━━━━━━━━━━━━━━━━\u001b[0m\u001b[37m\u001b[0m \u001b[1m45s\u001b[0m 320ms/step - accuracy: 0.9256 - loss: 0.2614 - val_accuracy: 0.7274 - val_loss: 1.0937\n",
      "Epoch 86/100\n",
      "\u001b[1m140/140\u001b[0m \u001b[32m━━━━━━━━━━━━━━━━━━━━\u001b[0m\u001b[37m\u001b[0m \u001b[1m45s\u001b[0m 322ms/step - accuracy: 0.9252 - loss: 0.2651 - val_accuracy: 0.7368 - val_loss: 1.1459\n",
      "Epoch 87/100\n",
      "\u001b[1m140/140\u001b[0m \u001b[32m━━━━━━━━━━━━━━━━━━━━\u001b[0m\u001b[37m\u001b[0m \u001b[1m45s\u001b[0m 323ms/step - accuracy: 0.9249 - loss: 0.2493 - val_accuracy: 0.7664 - val_loss: 1.0176\n",
      "Epoch 88/100\n",
      "\u001b[1m140/140\u001b[0m \u001b[32m━━━━━━━━━━━━━━━━━━━━\u001b[0m\u001b[37m\u001b[0m \u001b[1m44s\u001b[0m 316ms/step - accuracy: 0.9232 - loss: 0.2563 - val_accuracy: 0.7352 - val_loss: 1.1834\n",
      "Epoch 89/100\n",
      "\u001b[1m140/140\u001b[0m \u001b[32m━━━━━━━━━━━━━━━━━━━━\u001b[0m\u001b[37m\u001b[0m \u001b[1m45s\u001b[0m 319ms/step - accuracy: 0.9304 - loss: 0.2338 - val_accuracy: 0.7695 - val_loss: 1.0133\n",
      "Epoch 90/100\n",
      "\u001b[1m140/140\u001b[0m \u001b[32m━━━━━━━━━━━━━━━━━━━━\u001b[0m\u001b[37m\u001b[0m \u001b[1m44s\u001b[0m 316ms/step - accuracy: 0.9311 - loss: 0.2330 - val_accuracy: 0.7414 - val_loss: 1.1676\n",
      "Epoch 91/100\n",
      "\u001b[1m140/140\u001b[0m \u001b[32m━━━━━━━━━━━━━━━━━━━━\u001b[0m\u001b[37m\u001b[0m \u001b[1m45s\u001b[0m 319ms/step - accuracy: 0.9326 - loss: 0.2413 - val_accuracy: 0.7555 - val_loss: 1.0756\n",
      "Epoch 92/100\n",
      "\u001b[1m140/140\u001b[0m \u001b[32m━━━━━━━━━━━━━━━━━━━━\u001b[0m\u001b[37m\u001b[0m \u001b[1m45s\u001b[0m 324ms/step - accuracy: 0.9220 - loss: 0.2507 - val_accuracy: 0.7741 - val_loss: 1.0406\n",
      "Epoch 93/100\n",
      "\u001b[1m140/140\u001b[0m \u001b[32m━━━━━━━━━━━━━━━━━━━━\u001b[0m\u001b[37m\u001b[0m \u001b[1m45s\u001b[0m 322ms/step - accuracy: 0.9350 - loss: 0.2343 - val_accuracy: 0.7508 - val_loss: 1.0879\n",
      "Epoch 94/100\n",
      "\u001b[1m140/140\u001b[0m \u001b[32m━━━━━━━━━━━━━━━━━━━━\u001b[0m\u001b[37m\u001b[0m \u001b[1m45s\u001b[0m 320ms/step - accuracy: 0.9403 - loss: 0.2201 - val_accuracy: 0.7461 - val_loss: 1.2313\n",
      "Epoch 95/100\n",
      "\u001b[1m140/140\u001b[0m \u001b[32m━━━━━━━━━━━━━━━━━━━━\u001b[0m\u001b[37m\u001b[0m \u001b[1m44s\u001b[0m 317ms/step - accuracy: 0.9309 - loss: 0.2255 - val_accuracy: 0.7430 - val_loss: 1.1775\n",
      "Epoch 96/100\n",
      "\u001b[1m140/140\u001b[0m \u001b[32m━━━━━━━━━━━━━━━━━━━━\u001b[0m\u001b[37m\u001b[0m \u001b[1m45s\u001b[0m 318ms/step - accuracy: 0.9402 - loss: 0.1917 - val_accuracy: 0.7523 - val_loss: 1.1350\n",
      "Epoch 97/100\n",
      "\u001b[1m140/140\u001b[0m \u001b[32m━━━━━━━━━━━━━━━━━━━━\u001b[0m\u001b[37m\u001b[0m \u001b[1m44s\u001b[0m 317ms/step - accuracy: 0.9423 - loss: 0.1946 - val_accuracy: 0.7399 - val_loss: 1.1918\n",
      "Epoch 98/100\n",
      "\u001b[1m140/140\u001b[0m \u001b[32m━━━━━━━━━━━━━━━━━━━━\u001b[0m\u001b[37m\u001b[0m \u001b[1m44s\u001b[0m 318ms/step - accuracy: 0.9378 - loss: 0.2296 - val_accuracy: 0.7539 - val_loss: 1.1335\n",
      "Epoch 99/100\n",
      "\u001b[1m140/140\u001b[0m \u001b[32m━━━━━━━━━━━━━━━━━━━━\u001b[0m\u001b[37m\u001b[0m \u001b[1m45s\u001b[0m 321ms/step - accuracy: 0.9439 - loss: 0.1811 - val_accuracy: 0.7555 - val_loss: 1.0982\n",
      "Epoch 100/100\n",
      "\u001b[1m140/140\u001b[0m \u001b[32m━━━━━━━━━━━━━━━━━━━━\u001b[0m\u001b[37m\u001b[0m \u001b[1m45s\u001b[0m 318ms/step - accuracy: 0.9440 - loss: 0.1904 - val_accuracy: 0.7523 - val_loss: 1.1293\n"
     ]
    }
   ],
   "source": [
    "vgg_ft = keras.Model(inputs, outputs, name=\"vgg-ft-model\")\n",
    "vgg_ft.compile(\n",
    "    loss=\"categorical_crossentropy\",\n",
    "    optimizer=keras.optimizers.RMSprop(learning_rate=train_config['lr'], weight_decay=train_config['weight_decay']),\n",
    "    metrics=[\"accuracy\"]\n",
    ")\n",
    "\n",
    "wandb.init(\n",
    "    project=\"ic-chip-net\",\n",
    "    config=train_config\n",
    ")\n",
    "callbacks = [\n",
    "    keras.callbacks.ModelCheckpoint(\n",
    "        filepath=\"models/vgg-ft-model.keras\",\n",
    "        save_best_only=True,\n",
    "        monitor=\"val_accuracy\"\n",
    "    ),\n",
    "    WandbMetricsLogger()\n",
    "]\n",
    "\n",
    "# start training\n",
    "history_vgg_ft = vgg_ft.fit(\n",
    "    train_dataloader,\n",
    "    epochs=train_config['epochs'],\n",
    "    validation_data=val_dataloader,\n",
    "    callbacks=callbacks\n",
    ")\n",
    "\n",
    "train_history['vgg-ft'] = history_vgg_ft.history"
   ]
  },
  {
   "cell_type": "markdown",
   "id": "0c3e42e6-05bd-4110-9769-1809fa3fe171",
   "metadata": {},
   "source": [
    "## ⚖️ Comparing training process of all approaches"
   ]
  },
  {
   "cell_type": "code",
   "execution_count": 30,
   "id": "5aafc1d2-4573-4770-ba7e-cbbc838c00de",
   "metadata": {},
   "outputs": [
    {
     "data": {
      "text/plain": [
       "dict_keys(['accuracy', 'loss', 'val_accuracy', 'val_loss'])"
      ]
     },
     "execution_count": 30,
     "metadata": {},
     "output_type": "execute_result"
    }
   ],
   "source": [
    "train_history['post-vgg'].keys()"
   ]
  },
  {
   "cell_type": "code",
   "execution_count": 43,
   "id": "df6b9cbd-3a56-4c3d-aa6d-2c634178d5b3",
   "metadata": {},
   "outputs": [
    {
     "data": {
      "image/png": "[encoded data removed]",
      "text/plain": [
       "<Figure size 1200x500 with 2 Axes>"
      ]
     },
     "metadata": {},
     "output_type": "display_data"
    }
   ],
   "source": [
    "approaches = ['post-vgg', 'post-vgg-aug', 'vgg-ft']\n",
    "labels = ['Post VGG', 'Post VGG Aug', 'Fine-tuned VGG']\n",
    "colors = ['tab:blue', 'tab:purple', 'tab:green']\n",
    "\n",
    "f, axs = plt.subplots(1, 2, figsize=(12,5))\n",
    "for i, app in enumerate(approaches):\n",
    "    axs[0].plot(np.arange(len(train_history[app]['loss'])), train_history[app]['loss'],\n",
    "                label=labels[i], color=colors[i])\n",
    "    axs[0].plot(np.arange(len(train_history[app]['val_loss'])), train_history[app]['val_loss'],\n",
    "                ls='--', color=colors[i])\n",
    "    \n",
    "    axs[1].plot(np.arange(len(train_history[app]['accuracy'])), train_history[app]['accuracy'],\n",
    "                label=labels[i], color=colors[i])\n",
    "    axs[1].plot(np.arange(len(train_history[app]['val_accuracy'])), train_history[app]['val_accuracy'],\n",
    "                ls='--', color=colors[i])\n",
    "\n",
    "axs[0].set_ylabel('Loss')\n",
    "axs[1].set_ylabel('Accuracy')\n",
    "axs[0].set_title('Loss')\n",
    "axs[1].set_title('Accuracy')\n",
    "plt.suptitle('solid = training; dashed = validation')\n",
    "\n",
    "for ax in axs:\n",
    "    ax.legend()\n",
    "    ax.grid(ls=':')\n",
    "    ax.set_xlabel('Epoch')\n",
    "\n",
    "plt.savefig('train-logs.png', dpi=300, bbox_inches='tight')"
   ]
  },
  {
   "cell_type": "code",
   "execution_count": null,
   "id": "c0952b16-d680-4833-95a6-acc5ed3e08aa",
   "metadata": {},
   "outputs": [],
   "source": []
  }
 ],
 "metadata": {
  "kernelspec": {
   "display_name": "teradyne",
   "language": "python",
   "name": "teradyne"
  },
  "language_info": {
   "codemirror_mode": {
    "name": "ipython",
    "version": 3
   },
   "file_extension": ".py",
   "mimetype": "text/x-python",
   "name": "python",
   "nbconvert_exporter": "python",
   "pygments_lexer": "ipython3",
   "version": "3.12.4"
  }
 },
 "nbformat": 4,
 "nbformat_minor": 5
}
